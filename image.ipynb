{
 "cells": [
  {
   "cell_type": "code",
   "execution_count": 1,
   "id": "c89c5ee5",
   "metadata": {},
   "outputs": [
    {
     "ename": "ModuleNotFoundError",
     "evalue": "No module named 'matplotlib'",
     "output_type": "error",
     "traceback": [
      "\u001b[31m---------------------------------------------------------------------------\u001b[39m",
      "\u001b[31mModuleNotFoundError\u001b[39m                       Traceback (most recent call last)",
      "\u001b[36mCell\u001b[39m\u001b[36m \u001b[39m\u001b[32mIn[1]\u001b[39m\u001b[32m, line 1\u001b[39m\n\u001b[32m----> \u001b[39m\u001b[32m1\u001b[39m \u001b[38;5;28;01mimport\u001b[39;00m\u001b[38;5;250m \u001b[39m\u001b[34;01mmatplotlib\u001b[39;00m\u001b[34;01m.\u001b[39;00m\u001b[34;01mpyplot\u001b[39;00m\u001b[38;5;250m \u001b[39m\u001b[38;5;28;01mas\u001b[39;00m\u001b[38;5;250m \u001b[39m\u001b[34;01mplt\u001b[39;00m\n\u001b[32m      2\u001b[39m \u001b[38;5;28;01mimport\u001b[39;00m\u001b[38;5;250m \u001b[39m\u001b[34;01mpandas\u001b[39;00m\u001b[38;5;250m \u001b[39m\u001b[38;5;28;01mas\u001b[39;00m\u001b[38;5;250m \u001b[39m\u001b[34;01mpd\u001b[39;00m\n\u001b[32m      4\u001b[39m \u001b[38;5;66;03m# Data\u001b[39;00m\n",
      "\u001b[31mModuleNotFoundError\u001b[39m: No module named 'matplotlib'"
     ]
    }
   ],
   "source": [
    "import matplotlib.pyplot as plt\n",
    "import pandas as pd\n",
    "\n",
    "# Data\n",
    "data = {\n",
    "    \"Time\": [1, 2, 3, 4, 5],\n",
    "    \"Value\": [2, None, 10, None, 34]\n",
    "}\n",
    "df = pd.DataFrame(data)\n",
    "\n",
    "# Interpolations\n",
    "df_linear = df.copy()\n",
    "df_linear['Value'] = df_linear['Value'].interpolate(method='linear')\n",
    "\n",
    "df_poly = df.copy()\n",
    "df_poly['Value'] = df_poly['Value'].interpolate(method='polynomial', order=2)\n",
    "\n",
    "# Plot\n",
    "plt.plot(df['Time'], df['Value'], 'ro-', label=\"Original Data (with NaN)\")\n",
    "plt.plot(df_linear['Time'], df_linear['Value'], 'bo-', label=\"Linear Interpolation\")\n",
    "plt.plot(df_poly['Time'], df_poly['Value'], 'go-', label=\"Polynomial Interpolation (order=2)\")\n",
    "\n",
    "plt.xlabel(\"Time\")\n",
    "plt.ylabel(\"Value\")\n",
    "plt.title(\"Linear vs Polynomial Interpolation\")\n",
    "plt.legend()\n",
    "plt.grid(True)\n",
    "\n",
    "# Save to PNG\n",
    "plt.savefig(\"interpolation_comparison.png\")\n",
    "plt.show()\n"
   ]
  }
 ],
 "metadata": {
  "kernelspec": {
   "display_name": "Python 3",
   "language": "python",
   "name": "python3"
  },
  "language_info": {
   "codemirror_mode": {
    "name": "ipython",
    "version": 3
   },
   "file_extension": ".py",
   "mimetype": "text/x-python",
   "name": "python",
   "nbconvert_exporter": "python",
   "pygments_lexer": "ipython3",
   "version": "3.13.6"
  }
 },
 "nbformat": 4,
 "nbformat_minor": 5
}
