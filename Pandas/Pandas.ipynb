{
 "cells": [
  {
   "cell_type": "code",
   "execution_count": 1,
   "metadata": {
    "id": "GZiyw2_Ozl6z"
   },
   "outputs": [],
   "source": [
    "import pandas as pd"
   ]
  },
  {
   "cell_type": "code",
   "execution_count": null,
   "metadata": {
    "id": "zz4Cntdy0F72"
   },
   "outputs": [],
   "source": [
    "df = pd.read_csv(\"sales_data_sample.csv\",encoding=\"latin1\")"
   ]
  },
  {
   "cell_type": "code",
   "execution_count": null,
   "metadata": {
    "collapsed": true,
    "id": "7odeoU28O2Xu"
   },
   "outputs": [],
   "source": [
    "print(df)"
   ]
  },
  {
   "cell_type": "code",
   "execution_count": null,
   "metadata": {
    "id": "GDqZs7vNO7Q2"
   },
   "outputs": [],
   "source": []
  },
  {
   "cell_type": "markdown",
   "metadata": {
    "id": "sknxsvoKP-xZ"
   },
   "source": [
    "# Create file for using Pandas"
   ]
  },
  {
   "cell_type": "code",
   "execution_count": 52,
   "metadata": {
    "id": "bXPEkjeBQBAA"
   },
   "outputs": [
    {
     "name": "stdout",
     "output_type": "stream",
     "text": [
      "      Name  Age        City\n",
      "0  shahroz   25     Karachi\n",
      "1   Areeba   24     Karachi\n",
      "2     Umar   22  Shahdadpur\n"
     ]
    }
   ],
   "source": [
    "import pandas as pd\n",
    "\n",
    "data = {\n",
    "    \"Name\": ['shahroz', 'Areeba', 'Umar'],\n",
    "    \"Age\": [25, 24, 22],\n",
    "    \"City\": ['Karachi', 'Karachi', 'Shahdadpur']\n",
    "}\n",
    "\n",
    "df1 = pd.DataFrame(data)\n",
    "print(df1)\n"
   ]
  },
  {
   "cell_type": "code",
   "execution_count": null,
   "metadata": {
    "id": "9hdq9SioROPJ"
   },
   "outputs": [],
   "source": [
    "df1.to_csv(\"output.csv\", index=False)"
   ]
  },
  {
   "cell_type": "code",
   "execution_count": null,
   "metadata": {
    "id": "vyDqVARzS5mS"
   },
   "outputs": [],
   "source": [
    "df1.to_excel(\"output.xlsx\", index=False)"
   ]
  },
  {
   "cell_type": "code",
   "execution_count": null,
   "metadata": {
    "id": "9zMXsJbPntYZ"
   },
   "outputs": [],
   "source": [
    "df1 = pd.read_excel(\"output.xlsx\")\n",
    "print(df1)"
   ]
  },
  {
   "cell_type": "code",
   "execution_count": null,
   "metadata": {
    "id": "vljwARcYtgUG"
   },
   "outputs": [],
   "source": []
  },
  {
   "cell_type": "markdown",
   "metadata": {
    "id": "Y3GuAn1_Texh"
   },
   "source": [
    "\n",
    "*   Head(5)\n",
    "*   Tail(10)\n",
    "* Using data set for sales_data_sample\n",
    "\n"
   ]
  },
  {
   "cell_type": "code",
   "execution_count": null,
   "metadata": {
    "id": "2_fh8J7wTlEU"
   },
   "outputs": [],
   "source": [
    "df = pd.read_csv(\"sales_data_sample.csv\",encoding=\"latin1\")"
   ]
  },
  {
   "cell_type": "code",
   "execution_count": null,
   "metadata": {
    "collapsed": true,
    "id": "XjEPtjhLUOVL"
   },
   "outputs": [],
   "source": [
    "print(\"Display 10 row of First\")\n",
    "print(df.head(10))\n",
    "print(\"Display 10 row of last\")\n",
    "print(df.tail(10))"
   ]
  },
  {
   "cell_type": "code",
   "execution_count": null,
   "metadata": {
    "collapsed": true,
    "id": "u4jVZBS1UZY8"
   },
   "outputs": [],
   "source": [
    "print(\"Display the info of data set\")\n",
    "print(df.info())"
   ]
  },
  {
   "cell_type": "markdown",
   "metadata": {
    "id": "P_6gj4RCiCXD"
   },
   "source": [
    "# Employee Data\n"
   ]
  },
  {
   "cell_type": "code",
   "execution_count": 2,
   "metadata": {
    "id": "yb-QeG3HiHt9"
   },
   "outputs": [],
   "source": [
    "import  pandas as pd\n",
    "df2 = pd.read_csv(\"employee_data.csv\")"
   ]
  },
  {
   "cell_type": "code",
   "execution_count": 13,
   "metadata": {
    "id": "Zp7N01lBinq7"
   },
   "outputs": [
    {
     "name": "stdout",
     "output_type": "stream",
     "text": [
      "   Employee ID                       Name        Department  Age  \\\n",
      "0       EPK000  Rao Muhammad Shahroz Khan      Data Analyst   27   \n",
      "1       EPK001                 Ahmed Khan             Sales   28   \n",
      "2       EPK002                 Sara Malik                HR   32   \n",
      "3       EPK003              Bilal Hussain                IT   26   \n",
      "4       EPK004            Ayesha Siddiqui         Marketing   29   \n",
      "5       EPK005                 Farhan Ali           Finance   35   \n",
      "6       EPK006               Zainab Javed  Customer Support   24   \n",
      "7       EPK007              Imran Qureshi                IT   31   \n",
      "8       EPK008               Maryam Saeed                HR   27   \n",
      "9       EPK009                Hamza Tariq             Sales   33   \n",
      "10      EPK010                 Rabia Khan           Finance   30   \n",
      "11      EPK011              Shahbaz Ahmed         Logistics   36   \n",
      "12      EPK012                 Sana Iqbal         Marketing   25   \n",
      "13      EPK013                 Waqas Raza                IT   29   \n",
      "14      EPK014                Hira Farooq                HR   34   \n",
      "15      EPK015             Faisal Mehmood           Finance   38   \n",
      "16      EPK016                Komal Zafar  Customer Support   26   \n",
      "17      EPK017               Kashif Anwar             Sales   32   \n",
      "18      EPK018                  Sadaf Gul         Marketing   28   \n",
      "19      EPK019              Zeeshan Malik         Logistics   35   \n",
      "20      EPK020             Mahnoor Shahid                IT   27   \n",
      "21      EPK021                   Ali Raza           Finance   40   \n",
      "22      EPK022              Nadia Hussain                HR   29   \n",
      "23      EPK023               Adnan Shafiq             Sales   33   \n",
      "24      EPK024                Noor Fatima  Customer Support   25   \n",
      "25      EPK025               Usman Akhtar                IT   31   \n",
      "26      EPK026              Mehwish Rafiq         Marketing   28   \n",
      "27      EPK027               Shahid Nawaz         Logistics   37   \n",
      "28      EPK028               Aiman Khalid                HR   26   \n",
      "29      EPK029               Danish Iqbal           Finance   34   \n",
      "\n",
      "    Salary (PKR)  Performance Score        City  \n",
      "0         115000                8.5  Shahdadpur  \n",
      "1          85000                8.2     Karachi  \n",
      "2          95000                7.8      Lahore  \n",
      "3         120000                9.0   Islamabad  \n",
      "4          88000                8.5     Karachi  \n",
      "5         150000                9.3      Lahore  \n",
      "6          55000                7.0  Faisalabad  \n",
      "7         140000                8.9   Islamabad  \n",
      "8          82000                8.0      Multan  \n",
      "9         110000                8.6     Karachi  \n",
      "10        135000                8.7      Lahore  \n",
      "11         75000                7.4    Peshawar  \n",
      "12         70000                7.5     Karachi  \n",
      "13        125000                8.8   Islamabad  \n",
      "14         98000                8.1      Lahore  \n",
      "15        165000                9.1     Karachi  \n",
      "16         60000                7.3      Multan  \n",
      "17        100000                8.2      Lahore  \n",
      "18         85000                8.0     Karachi  \n",
      "19         78000                7.6   Islamabad  \n",
      "20        118000                8.7      Lahore  \n",
      "21        170000                9.4     Karachi  \n",
      "22         90000                8.3   Islamabad  \n",
      "23        105000                8.5  Faisalabad  \n",
      "24         58000                7.2      Lahore  \n",
      "25        130000                8.9     Karachi  \n",
      "26         83000                8.1      Lahore  \n",
      "27         80000                7.7     Karachi  \n",
      "28         85000                8.2   Islamabad  \n",
      "29        140000                8.8      Multan  \n"
     ]
    }
   ],
   "source": [
    "print(df2)"
   ]
  },
  {
   "cell_type": "code",
   "execution_count": 2,
   "metadata": {
    "id": "BkeJJ646kB8C"
   },
   "outputs": [
    {
     "name": "stdout",
     "output_type": "stream",
     "text": [
      "Descriptive Statistics\n",
      "           Index        Age   Salary (PKR)  Performance Score\n",
      "count  30.000000  30.000000      30.000000          30.000000\n",
      "mean   14.500000  30.500000  103000.000000           8.276667\n",
      "std     8.803408   4.264933   30927.055447           0.638254\n",
      "min     0.000000  24.000000   55000.000000           7.000000\n",
      "25%     7.250000  27.000000   82250.000000           7.850000\n",
      "50%    14.500000  29.500000   96500.000000           8.250000\n",
      "75%    21.750000  33.750000  123750.000000           8.775000\n",
      "max    29.000000  40.000000  170000.000000           9.400000\n"
     ]
    }
   ],
   "source": [
    "print('Descriptive Statistics')\n",
    "print(df2.describe())"
   ]
  },
  {
   "cell_type": "code",
   "execution_count": 3,
   "metadata": {},
   "outputs": [
    {
     "name": "stdout",
     "output_type": "stream",
     "text": [
      "shape (30, 8)\n",
      "Column Name Index(['Index', 'Employee ID', 'Name', 'Department', 'Age', 'Salary (PKR)',\n",
      "       'Performance Score', 'City'],\n",
      "      dtype='object')\n"
     ]
    }
   ],
   "source": [
    "print('shape',df2.shape)\n",
    "print('Column Name',df2.columns)"
   ]
  },
  {
   "cell_type": "code",
   "execution_count": null,
   "metadata": {},
   "outputs": [],
   "source": [
    "name = df2['Name']\n",
    "print(name)"
   ]
  },
  {
   "cell_type": "code",
   "execution_count": null,
   "metadata": {},
   "outputs": [],
   "source": [
    "subset = df2[['Name','Salary (PKR)']]\n",
    "print('\\nSubset With Name and Salary')\n",
    "print(subset)"
   ]
  },
  {
   "cell_type": "markdown",
   "metadata": {},
   "source": [
    "# How to Apply condition form Data set"
   ]
  },
  {
   "cell_type": "code",
   "execution_count": null,
   "metadata": {},
   "outputs": [],
   "source": [
    "high_salary = df2[df2['Salary (PKR)'] > 100000]\n",
    "print(\"Employees Whith salary > 100000\")\n",
    "print(high_salary)"
   ]
  },
  {
   "cell_type": "code",
   "execution_count": 14,
   "metadata": {},
   "outputs": [
    {
     "name": "stdout",
     "output_type": "stream",
     "text": [
      "    Index Employee ID            Name Department  Age  Salary (PKR)  \\\n",
      "5       5      EPK005      Farhan Ali    Finance   35        150000   \n",
      "7       7      EPK007   Imran Qureshi         IT   31        140000   \n",
      "9       9      EPK009     Hamza Tariq      Sales   33        110000   \n",
      "15     15      EPK015  Faisal Mehmood    Finance   38        165000   \n",
      "21     21      EPK021        Ali Raza    Finance   40        170000   \n",
      "23     23      EPK023    Adnan Shafiq      Sales   33        105000   \n",
      "25     25      EPK025    Usman Akhtar         IT   31        130000   \n",
      "29     29      EPK029    Danish Iqbal    Finance   34        140000   \n",
      "\n",
      "    Performance Score        City  \n",
      "5                 9.3      Lahore  \n",
      "7                 8.9   Islamabad  \n",
      "9                 8.6     Karachi  \n",
      "15                9.1     Karachi  \n",
      "21                9.4     Karachi  \n",
      "23                8.5  Faisalabad  \n",
      "25                8.9     Karachi  \n",
      "29                8.8      Multan  \n"
     ]
    }
   ],
   "source": [
    "filtered = df2[(df2[\"Age\"] > 30) & (df2[\"Salary (PKR)\"] > 100000 )]\n",
    "print(filtered)"
   ]
  },
  {
   "cell_type": "code",
   "execution_count": null,
   "metadata": {},
   "outputs": [
    {
     "name": "stdout",
     "output_type": "stream",
     "text": [
      "    Index Employee ID            Name Department  Age  Salary (PKR)  \\\n",
      "5       5      EPK005      Farhan Ali    Finance   35        150000   \n",
      "15     15      EPK015  Faisal Mehmood    Finance   38        165000   \n",
      "21     21      EPK021        Ali Raza    Finance   40        170000   \n",
      "29     29      EPK029    Danish Iqbal    Finance   34        140000   \n",
      "\n",
      "    Performance Score     City  \n",
      "5                 9.3   Lahore  \n",
      "15                9.1  Karachi  \n",
      "21                9.4  Karachi  \n",
      "29                8.8   Multan  \n"
     ]
    }
   ],
   "source": [
    "#filtered1 = df2[(df2[\"Age\"] > 33) | (df2[\"Performance Score\"] > 9.0) & (df2[\"Salary (PKR)\"] > 130000)]\n",
    "filtered1 = df2[((df2[\"Age\"] > 33) | (df2[\"Performance Score\"] > 9.0)) & (df2[\"Salary (PKR)\"] > 130000)]\n",
    "print(filtered1)"
   ]
  },
  {
   "cell_type": "code",
   "execution_count": null,
   "metadata": {},
   "outputs": [],
   "source": [
    "filtered2 = df2[((df2[\"Age\"] > 26) | (df2[\"Performance Score\"] > 9.0)) & (df2[\"Salary (PKR)\"] > 110000)][['Name','City','Department','Salary (PKR)']]\n",
    "print(filtered2)"
   ]
  },
  {
   "cell_type": "code",
   "execution_count": null,
   "metadata": {},
   "outputs": [],
   "source": []
  },
  {
   "cell_type": "markdown",
   "metadata": {},
   "source": [
    "# How to add New Column form data set"
   ]
  },
  {
   "cell_type": "code",
   "execution_count": null,
   "metadata": {},
   "outputs": [],
   "source": [
    "print(df2)\n",
    "df2[\"Incentive\"] = df2['Salary (PKR)'] * 0.1\n",
    "print(df2)"
   ]
  },
  {
   "cell_type": "markdown",
   "metadata": {},
   "source": [
    "using insert()\n",
    "\n",
    "df.insert(loc,Column_Name,some_data)"
   ]
  },
  {
   "cell_type": "code",
   "execution_count": null,
   "metadata": {},
   "outputs": [],
   "source": []
  },
  {
   "cell_type": "markdown",
   "metadata": {},
   "source": [
    " # How to Update Data form Data Set"
   ]
  },
  {
   "cell_type": "code",
   "execution_count": null,
   "metadata": {},
   "outputs": [],
   "source": [
    "# df.loc[]\n",
    "# df.loc[row_index, \"Column Name\"] = new_value\n",
    "print(df2)\n",
    "df2.loc[0, 'Salary (PKR)'] = 80000\n",
    "print(df2)"
   ]
  },
  {
   "cell_type": "markdown",
   "metadata": {},
   "source": [
    "# How to Removing Column and Row form Data Set "
   ]
  },
  {
   "cell_type": "code",
   "execution_count": 12,
   "metadata": {},
   "outputs": [
    {
     "name": "stdout",
     "output_type": "stream",
     "text": [
      "    Index Employee ID                       Name        Department  Age  \\\n",
      "0       0      EPK000  Rao Muhammad Shahroz Khan      Data Analyst   27   \n",
      "1       1      EPK001                 Ahmed Khan             Sales   28   \n",
      "2       2      EPK002                 Sara Malik                HR   32   \n",
      "3       3      EPK003              Bilal Hussain                IT   26   \n",
      "4       4      EPK004            Ayesha Siddiqui         Marketing   29   \n",
      "5       5      EPK005                 Farhan Ali           Finance   35   \n",
      "6       6      EPK006               Zainab Javed  Customer Support   24   \n",
      "7       7      EPK007              Imran Qureshi                IT   31   \n",
      "8       8      EPK008               Maryam Saeed                HR   27   \n",
      "9       9      EPK009                Hamza Tariq             Sales   33   \n",
      "10     10      EPK010                 Rabia Khan           Finance   30   \n",
      "11     11      EPK011              Shahbaz Ahmed         Logistics   36   \n",
      "12     12      EPK012                 Sana Iqbal         Marketing   25   \n",
      "13     13      EPK013                 Waqas Raza                IT   29   \n",
      "14     14      EPK014                Hira Farooq                HR   34   \n",
      "15     15      EPK015             Faisal Mehmood           Finance   38   \n",
      "16     16      EPK016                Komal Zafar  Customer Support   26   \n",
      "17     17      EPK017               Kashif Anwar             Sales   32   \n",
      "18     18      EPK018                  Sadaf Gul         Marketing   28   \n",
      "19     19      EPK019              Zeeshan Malik         Logistics   35   \n",
      "20     20      EPK020             Mahnoor Shahid                IT   27   \n",
      "21     21      EPK021                   Ali Raza           Finance   40   \n",
      "22     22      EPK022              Nadia Hussain                HR   29   \n",
      "23     23      EPK023               Adnan Shafiq             Sales   33   \n",
      "24     24      EPK024                Noor Fatima  Customer Support   25   \n",
      "25     25      EPK025               Usman Akhtar                IT   31   \n",
      "26     26      EPK026              Mehwish Rafiq         Marketing   28   \n",
      "27     27      EPK027               Shahid Nawaz         Logistics   37   \n",
      "28     28      EPK028               Aiman Khalid                HR   26   \n",
      "29     29      EPK029               Danish Iqbal           Finance   34   \n",
      "\n",
      "    Salary (PKR)  Performance Score        City  \n",
      "0         115000                8.5  Shahdadpur  \n",
      "1          85000                8.2     Karachi  \n",
      "2          95000                7.8      Lahore  \n",
      "3         120000                9.0   Islamabad  \n",
      "4          88000                8.5     Karachi  \n",
      "5         150000                9.3      Lahore  \n",
      "6          55000                7.0  Faisalabad  \n",
      "7         140000                8.9   Islamabad  \n",
      "8          82000                8.0      Multan  \n",
      "9         110000                8.6     Karachi  \n",
      "10        135000                8.7      Lahore  \n",
      "11         75000                7.4    Peshawar  \n",
      "12         70000                7.5     Karachi  \n",
      "13        125000                8.8   Islamabad  \n",
      "14         98000                8.1      Lahore  \n",
      "15        165000                9.1     Karachi  \n",
      "16         60000                7.3      Multan  \n",
      "17        100000                8.2      Lahore  \n",
      "18         85000                8.0     Karachi  \n",
      "19         78000                7.6   Islamabad  \n",
      "20        118000                8.7      Lahore  \n",
      "21        170000                9.4     Karachi  \n",
      "22         90000                8.3   Islamabad  \n",
      "23        105000                8.5  Faisalabad  \n",
      "24         58000                7.2      Lahore  \n",
      "25        130000                8.9     Karachi  \n",
      "26         83000                8.1      Lahore  \n",
      "27         80000                7.7     Karachi  \n",
      "28         85000                8.2   Islamabad  \n",
      "29        140000                8.8      Multan  \n",
      "Modified Data Set\n",
      "   Employee ID                       Name        Department  Age  \\\n",
      "0       EPK000  Rao Muhammad Shahroz Khan      Data Analyst   27   \n",
      "1       EPK001                 Ahmed Khan             Sales   28   \n",
      "2       EPK002                 Sara Malik                HR   32   \n",
      "3       EPK003              Bilal Hussain                IT   26   \n",
      "4       EPK004            Ayesha Siddiqui         Marketing   29   \n",
      "5       EPK005                 Farhan Ali           Finance   35   \n",
      "6       EPK006               Zainab Javed  Customer Support   24   \n",
      "7       EPK007              Imran Qureshi                IT   31   \n",
      "8       EPK008               Maryam Saeed                HR   27   \n",
      "9       EPK009                Hamza Tariq             Sales   33   \n",
      "10      EPK010                 Rabia Khan           Finance   30   \n",
      "11      EPK011              Shahbaz Ahmed         Logistics   36   \n",
      "12      EPK012                 Sana Iqbal         Marketing   25   \n",
      "13      EPK013                 Waqas Raza                IT   29   \n",
      "14      EPK014                Hira Farooq                HR   34   \n",
      "15      EPK015             Faisal Mehmood           Finance   38   \n",
      "16      EPK016                Komal Zafar  Customer Support   26   \n",
      "17      EPK017               Kashif Anwar             Sales   32   \n",
      "18      EPK018                  Sadaf Gul         Marketing   28   \n",
      "19      EPK019              Zeeshan Malik         Logistics   35   \n",
      "20      EPK020             Mahnoor Shahid                IT   27   \n",
      "21      EPK021                   Ali Raza           Finance   40   \n",
      "22      EPK022              Nadia Hussain                HR   29   \n",
      "23      EPK023               Adnan Shafiq             Sales   33   \n",
      "24      EPK024                Noor Fatima  Customer Support   25   \n",
      "25      EPK025               Usman Akhtar                IT   31   \n",
      "26      EPK026              Mehwish Rafiq         Marketing   28   \n",
      "27      EPK027               Shahid Nawaz         Logistics   37   \n",
      "28      EPK028               Aiman Khalid                HR   26   \n",
      "29      EPK029               Danish Iqbal           Finance   34   \n",
      "\n",
      "    Salary (PKR)  Performance Score        City  \n",
      "0         115000                8.5  Shahdadpur  \n",
      "1          85000                8.2     Karachi  \n",
      "2          95000                7.8      Lahore  \n",
      "3         120000                9.0   Islamabad  \n",
      "4          88000                8.5     Karachi  \n",
      "5         150000                9.3      Lahore  \n",
      "6          55000                7.0  Faisalabad  \n",
      "7         140000                8.9   Islamabad  \n",
      "8          82000                8.0      Multan  \n",
      "9         110000                8.6     Karachi  \n",
      "10        135000                8.7      Lahore  \n",
      "11         75000                7.4    Peshawar  \n",
      "12         70000                7.5     Karachi  \n",
      "13        125000                8.8   Islamabad  \n",
      "14         98000                8.1      Lahore  \n",
      "15        165000                9.1     Karachi  \n",
      "16         60000                7.3      Multan  \n",
      "17        100000                8.2      Lahore  \n",
      "18         85000                8.0     Karachi  \n",
      "19         78000                7.6   Islamabad  \n",
      "20        118000                8.7      Lahore  \n",
      "21        170000                9.4     Karachi  \n",
      "22         90000                8.3   Islamabad  \n",
      "23        105000                8.5  Faisalabad  \n",
      "24         58000                7.2      Lahore  \n",
      "25        130000                8.9     Karachi  \n",
      "26         83000                8.1      Lahore  \n",
      "27         80000                7.7     Karachi  \n",
      "28         85000                8.2   Islamabad  \n",
      "29        140000                8.8      Multan  \n"
     ]
    }
   ],
   "source": [
    "import  pandas as pd\n",
    "df2 = pd.read_csv(\"employee_data.csv\")\n",
    "print(df2)\n",
    "# df.drop(Columns = [\"Columns Name\"], implace = True)\n",
    "print(\"Modified Data Set\")\n",
    "df2.drop(columns=[\"Index\"], inplace=True)\n",
    "print(df2)"
   ]
  },
  {
   "cell_type": "markdown",
   "metadata": {},
   "source": []
  },
  {
   "cell_type": "markdown",
   "metadata": {},
   "source": [
    "# How to Missing Data Handling Form New Data Set"
   ]
  },
  {
   "cell_type": "code",
   "execution_count": null,
   "metadata": {},
   "outputs": [],
   "source": [
    "import pandas as pd\n",
    "data = {\n",
    "    \"Name\":['Shahroz','Areeba','None','Umar','Usman','Huriya','Jahanzaib','None','Zeeyan','Meerab'],\n",
    "    \"Age\" :[26,24,None,22,21,19,15,None,12,10],\n",
    "    \"Salary\":[60000,50000,None,45000,41000,39000,32000,None,29000,25000],\n",
    "    \"Performance_score\" :[89,80,None,75,90,92,82,None,76,72]\n",
    "}\n",
    "df3 = pd.DataFrame(data)\n",
    "print(df3)"
   ]
  },
  {
   "cell_type": "markdown",
   "metadata": {},
   "source": [
    "Check Data Set Null Value For Using Keywork = \"df.isnull()\""
   ]
  },
  {
   "cell_type": "code",
   "execution_count": 17,
   "metadata": {},
   "outputs": [
    {
     "name": "stdout",
     "output_type": "stream",
     "text": [
      "    Name    Age  Salary  Performance_score\n",
      "0  False  False   False              False\n",
      "1  False  False   False              False\n",
      "2  False   True    True               True\n",
      "3  False  False   False              False\n",
      "4  False  False   False              False\n",
      "5  False  False   False              False\n",
      "6  False  False   False              False\n",
      "7  False   True    True               True\n",
      "8  False  False   False              False\n",
      "9  False  False   False              False\n"
     ]
    }
   ],
   "source": [
    "print(df3.isnull())"
   ]
  },
  {
   "cell_type": "markdown",
   "metadata": {},
   "source": [
    "Check Data Set Nmber of Value Integer For Using Keywork = \"df.isnull().sum()\""
   ]
  },
  {
   "cell_type": "code",
   "execution_count": 18,
   "metadata": {},
   "outputs": [
    {
     "name": "stdout",
     "output_type": "stream",
     "text": [
      "Name                 0\n",
      "Age                  2\n",
      "Salary               2\n",
      "Performance_score    2\n",
      "dtype: int64\n"
     ]
    }
   ],
   "source": [
    "print(df3.isnull().sum())"
   ]
  },
  {
   "cell_type": "markdown",
   "metadata": {},
   "source": [
    " Missing Data Drop For New Data Set"
   ]
  },
  {
   "cell_type": "code",
   "execution_count": null,
   "metadata": {},
   "outputs": [],
   "source": [
    "import pandas as pd\n",
    "data = {\n",
    "    \"Name\":['Shahroz','Areeba','None','Umar','Usman','Huriya','Jahanzaib','None','Zeeyan','Meerab'],\n",
    "    \"Age\" :[26,24,None,22,21,19,15,None,12,10],\n",
    "    \"Salary\":[60000,50000,None,45000,41000,39000,32000,None,29000,25000],\n",
    "    \"Performance_score\" :[89,80,None,75,90,92,82,None,76,72]\n",
    "}\n",
    "df_drop = pd.DataFrame(data)\n",
    "print(df_drop) "
   ]
  },
  {
   "cell_type": "code",
   "execution_count": null,
   "metadata": {},
   "outputs": [],
   "source": [
    "print(df_drop)\n",
    "df_drop.dropna(inplace=True)\n",
    "print(df_drop)"
   ]
  },
  {
   "cell_type": "markdown",
   "metadata": {},
   "source": [
    "Fill up data form Null Value New data set using Keyword = \"fillna\""
   ]
  },
  {
   "cell_type": "code",
   "execution_count": 39,
   "metadata": {},
   "outputs": [
    {
     "name": "stdout",
     "output_type": "stream",
     "text": [
      "        Name   Age   Salary  Performance_score\n",
      "0    Shahroz  26.0  60000.0               89.0\n",
      "1     Areeba  24.0  50000.0               80.0\n",
      "2       None   NaN      NaN                NaN\n",
      "3       Umar  22.0  45000.0               75.0\n",
      "4      Usman  21.0  41000.0               90.0\n",
      "5     Huriya  19.0  39000.0               92.0\n",
      "6  Jahanzaib  15.0  32000.0               82.0\n",
      "7       None   NaN      NaN                NaN\n",
      "8     Zeeyan  12.0  29000.0               76.0\n",
      "9     Meerab  10.0  25000.0               72.0\n"
     ]
    }
   ],
   "source": [
    "import pandas as pd\n",
    "data = {\n",
    "    \"Name\":['Shahroz','Areeba','None','Umar','Usman','Huriya','Jahanzaib','None','Zeeyan','Meerab'],\n",
    "    \"Age\" :[26,24,None,22,21,19,15,None,12,10],\n",
    "    \"Salary\":[60000,50000,None,45000,41000,39000,32000,None,29000,25000],\n",
    "    \"Performance_score\" :[89,80,None,75,90,92,82,None,76,72]\n",
    "}\n",
    "df_fill = pd.DataFrame(data)\n",
    "print(df_fill)"
   ]
  },
  {
   "cell_type": "markdown",
   "metadata": {},
   "source": [
    "Fill up defualt value in to 0"
   ]
  },
  {
   "cell_type": "code",
   "execution_count": null,
   "metadata": {},
   "outputs": [],
   "source": [
    "print(df_fill)\n",
    "df_fill.fillna(0,inplace=True)\n",
    "print(\"Updating Data\")\n",
    "print(df_fill)\n"
   ]
  },
  {
   "cell_type": "code",
   "execution_count": 40,
   "metadata": {},
   "outputs": [
    {
     "name": "stdout",
     "output_type": "stream",
     "text": [
      "        Name     Age   Salary  Performance_score\n",
      "0    Shahroz  26.000  60000.0               89.0\n",
      "1     Areeba  24.000  50000.0               80.0\n",
      "2       None  18.625  40125.0                NaN\n",
      "3       Umar  22.000  45000.0               75.0\n",
      "4      Usman  21.000  41000.0               90.0\n",
      "5     Huriya  19.000  39000.0               92.0\n",
      "6  Jahanzaib  15.000  32000.0               82.0\n",
      "7       None  18.625  40125.0                NaN\n",
      "8     Zeeyan  12.000  29000.0               76.0\n",
      "9     Meerab  10.000  25000.0               72.0\n"
     ]
    },
    {
     "name": "stderr",
     "output_type": "stream",
     "text": [
      "C:\\Users\\princ\\AppData\\Local\\Temp\\ipykernel_3620\\2410397604.py:1: FutureWarning: A value is trying to be set on a copy of a DataFrame or Series through chained assignment using an inplace method.\n",
      "The behavior will change in pandas 3.0. This inplace method will never work because the intermediate object on which we are setting values always behaves as a copy.\n",
      "\n",
      "For example, when doing 'df[col].method(value, inplace=True)', try using 'df.method({col: value}, inplace=True)' or df[col] = df[col].method(value) instead, to perform the operation inplace on the original object.\n",
      "\n",
      "\n",
      "  df_fill['Age'].fillna(df_fill['Age'].mean(), inplace=True)\n",
      "C:\\Users\\princ\\AppData\\Local\\Temp\\ipykernel_3620\\2410397604.py:2: FutureWarning: A value is trying to be set on a copy of a DataFrame or Series through chained assignment using an inplace method.\n",
      "The behavior will change in pandas 3.0. This inplace method will never work because the intermediate object on which we are setting values always behaves as a copy.\n",
      "\n",
      "For example, when doing 'df[col].method(value, inplace=True)', try using 'df.method({col: value}, inplace=True)' or df[col] = df[col].method(value) instead, to perform the operation inplace on the original object.\n",
      "\n",
      "\n",
      "  df_fill['Salary'].fillna(df_fill['Salary'].mean(), inplace=True)\n"
     ]
    }
   ],
   "source": [
    "df_fill['Age'].fillna(df_fill['Age'].mean(), inplace=True)\n",
    "df_fill['Salary'].fillna(df_fill['Salary'].mean(), inplace=True)\n",
    "#df_fill['Perfomance_score'].fillna(df_fill['Perfomance_score'].mean(), inplace=True)\n",
    "print(df_fill)"
   ]
  },
  {
   "cell_type": "code",
   "execution_count": null,
   "metadata": {},
   "outputs": [],
   "source": []
  },
  {
   "cell_type": "markdown",
   "metadata": {},
   "source": [
    "# Interpolation Method "
   ]
  },
  {
   "cell_type": "markdown",
   "metadata": {},
   "source": [
    "Haan 👍 interpolation ka matlab hota hai missing values ko estimate karke fill karna, taki data continuous ban jaye.\n",
    "\n",
    "🔹 Simple shabdon me: agar aapke paas ek dataset hai jisme kuch values missing hain, to interpolation un gaps ko logical tareeqe se bhar deta hai.\n",
    "\n",
    "For example:👇👇👇"
   ]
  },
  {
   "cell_type": "code",
   "execution_count": 15,
   "metadata": {},
   "outputs": [
    {
     "name": "stdout",
     "output_type": "stream",
     "text": [
      "Before Interpolation\n",
      "   Time  Value\n",
      "0     1   10.0\n",
      "1     2    NaN\n",
      "2     3   30.0\n",
      "3     4    NaN\n",
      "4     5   50.0\n"
     ]
    }
   ],
   "source": [
    "import pandas as pd\n",
    "\n",
    "data = {\n",
    "    \"Time\" : [1,2,3,4,5],\n",
    "    \"Value\": [10,None,30,None,50]\n",
    "}\n",
    "df_inter = pd.DataFrame(data)\n",
    "print(\"Before Interpolation\")\n",
    "print(df_inter)\n",
    "# Method linear\n"
   ]
  },
  {
   "cell_type": "markdown",
   "metadata": {},
   "source": [
    "1. 🔹 Linear Interpolation Kya Hai?\n",
    "\n",
    "Linear interpolation ka matlab hai do known points ke darmiyan ek straight line kheench kar missing value ka andaza lagana.\n",
    "\n",
    "Aap bas dono endpoints ka average trend follow karte ho."
   ]
  },
  {
   "cell_type": "code",
   "execution_count": 16,
   "metadata": {},
   "outputs": [
    {
     "name": "stdout",
     "output_type": "stream",
     "text": [
      "After Interpolation\n",
      "   Time  Value\n",
      "0     1   10.0\n",
      "1     2   20.0\n",
      "2     3   30.0\n",
      "3     4   40.0\n",
      "4     5   50.0\n"
     ]
    }
   ],
   "source": [
    "df_inter['Value'] = df_inter['Value'].interpolate(method=\"linear\")\n",
    "print(\"After Interpolation\")\n",
    "print(df_inter)"
   ]
  },
  {
   "cell_type": "markdown",
   "metadata": {},
   "source": [
    "2. 🔹 Polynomial Interpolation Kya Hai?\n",
    "\n",
    "Polynomial interpolation ka matlab hai missing values ko straight line ke bajaye ek polynomial curve (quadratic, cubic, etc.) ke hisaab se estimate karna.\n",
    "\n",
    "👉 Matlab agar data me straight line ka trend na ho, aur thoda curve ho, to polynomial interpolation better fit deta hai.\n",
    "\n",
    "🔹 Linear → seedha line ke hisaab se fill karta hai.\n",
    "🔹 Polynomial (order=2,3,...) → ek smooth curve follow karta hai.\n",
    "\n",
    "👉 Polynomial interpolation zyada useful hota hai jab data naturally curved trend follow karta hai (jaise population growth, physics experiments, etc.)."
   ]
  },
  {
   "cell_type": "markdown",
   "metadata": {},
   "source": []
  },
  {
   "cell_type": "markdown",
   "metadata": {},
   "source": [
    "![alt text](<../linear vs polynomial compare.png>)"
   ]
  },
  {
   "cell_type": "markdown",
   "metadata": {},
   "source": [
    "Yeh dekhiye 📊 — graph me comparison:\n",
    "\n",
    "🔴 Red → Original data (jahan values missing thi, wahan gap hai).\n",
    "\n",
    "🔵 Blue → Linear interpolation (seedhi line se gap fill kiya).\n",
    "\n",
    "🟢 Green → Polynomial interpolation (order=2, yani quadratic curve se fill kiya).\n",
    "\n",
    "👉 Isse clearly dikh raha hai ki polynomial zyada smooth aur curve ke hisaab se estimate karta hai, jabki linear sirf straight line ke saath fill karta hai."
   ]
  },
  {
   "cell_type": "markdown",
   "metadata": {},
   "source": [
    "3. 🔹 Time-based Interpolation kya hai?\n",
    "\n",
    "Ye tab use hota hai jab aapke dataset ka index ek DateTime index hota hai.\n",
    "👉 Matlab agar aapke data me time-series ho (jaise dates/timestamps), to pandas missing values ko time difference ke hisaab se fill karega.\n",
    "\n",
    "✅ Difference ye hai ki time-based interpolation specifically datetime index ka use karta hai.\n",
    "Ye linear ke jaisa lagta hai, lekin agar dates irregular hain (jaise 1 Jan, 5 Jan, 10 Jan), to ye missing values ko unke beech ke time gap ke proportion ke hisaab se fill karega"
   ]
  },
  {
   "cell_type": "markdown",
   "metadata": {},
   "source": [
    "Expected Difference:\n",
    "\n",
    "Linear interpolation → bas row numbers ke hisaab se equally distribute karega.\n",
    "\n",
    "Time-based interpolation → dates ke beech ke time gap ko consider karega.\n",
    "\n",
    "👉 For example,\n",
    "\n",
    "2023-01-03 value linear ke hisaab se 20 ban sakti hai,\n",
    "\n",
    "Lekin time-based me wo thoda adjust hoga kyunki 2023-01-03 aur 2023-01-06 ke beech 3 din ka gap hai, jabki 2023-01-06 aur 2023-01-15 ke beech 9 din ka gap hai."
   ]
  },
  {
   "cell_type": "markdown",
   "metadata": {},
   "source": []
  },
  {
   "cell_type": "markdown",
   "metadata": {},
   "source": [
    "# Sorting & Aggregation"
   ]
  },
  {
   "cell_type": "markdown",
   "metadata": {},
   "source": [
    "Sorting Data 1 Column Sort_values()"
   ]
  },
  {
   "cell_type": "code",
   "execution_count": 9,
   "metadata": {},
   "outputs": [
    {
     "name": "stdout",
     "output_type": "stream",
     "text": [
      "      Name  Score_point  Salary\n",
      "1   Areeba          9.6   30000\n",
      "0  shahroz          8.9   10000\n",
      "2   Meerab          8.0    5000\n"
     ]
    }
   ],
   "source": [
    "import pandas as pd\n",
    "\n",
    "data = {\n",
    "    \"Name\":['shahroz','Areeba','Meerab'],\n",
    "    \"Score_point\": [8.9,9.6,8.0],\n",
    "    \"Salary\":[10000,30000,5000]\n",
    "}\n",
    "\n",
    "df_sort = pd.DataFrame(data)\n",
    "df_sort.sort_values(by=[\"Score_point\",\"Salary\"], ascending=False,inplace=True)\n",
    "print(df_sort)\n",
    "\n"
   ]
  },
  {
   "cell_type": "markdown",
   "metadata": {},
   "source": [
    "🔹 Summary Statistics kya hota hai?\n",
    "\n",
    "Ye wo basic numerical values hain jo data ko summarize karte hain — yani bade dataset ko ek chhoti si summary me explain kar dete hain.\n",
    "\n",
    "Isme mainly teen categories hoti hain:\n",
    "\n",
    "1. Measures of Central Tendency (Data ka center)\n",
    "\n",
    "Mean (Average) → sab numbers ka average\n",
    "\n",
    "Median → beech wala number jab data ko sort karte hain\n",
    "\n",
    "Mode → jo value sabse zyada repeat hoti hai\n",
    "\n",
    "2. Measures of Dispersion (Data kitna spread hai)\n",
    "\n",
    "Range → max - min\n",
    "\n",
    "Variance → data ka spread (squared differences from mean)\n",
    "\n",
    "Standard Deviation (std) → data kitna mean se door hai (spread measure)\n",
    "\n",
    "3. Shape of Data Distribution\n",
    "\n",
    "Skewness → data left/right skew hai ya symmetric\n",
    "\n",
    "Kurtosis → tails heavy hain ya light (normal distribution se compare karke)"
   ]
  },
  {
   "cell_type": "code",
   "execution_count": 15,
   "metadata": {},
   "outputs": [
    {
     "name": "stdout",
     "output_type": "stream",
     "text": [
      "15000.0\n"
     ]
    }
   ],
   "source": [
    "import pandas as pd\n",
    "\n",
    "data = {\n",
    "    \"Name\":['shahroz','Areeba','Meerab'],\n",
    "    \"Score_point\": [8.9,9.6,8.0],\n",
    "    \"Salary\":[10000,30000,5000]\n",
    "}\n",
    "\n",
    "df_avg = pd.DataFrame(data)\n",
    "avg_salary = df_avg['Salary'].mean()\n",
    "print(avg_salary)\n"
   ]
  },
  {
   "cell_type": "markdown",
   "metadata": {},
   "source": [
    "🔹 Pandas groupby kya hota hai?\n",
    "\n",
    "groupby ka use tab hota hai jab aap data ko ek ya zyada categories ke basis par group karke un groups par aggregation / summary statistics lagana chahte ho.\n",
    "\n",
    "Matlab:\n",
    "\n",
    "Ek bade dataset ko chhote-chhote groups me tod kar har group par calculation karna."
   ]
  },
  {
   "cell_type": "code",
   "execution_count": 21,
   "metadata": {},
   "outputs": [
    {
     "name": "stdout",
     "output_type": "stream",
     "text": [
      "   Student  Class  Subject  Marks\n",
      "0      Ali     10     Math     85\n",
      "1      Ali     10  Science     75\n",
      "2     Sara     10     Math     95\n",
      "3     Sara     10  Science     69\n",
      "4  shahroz      9     Math     70\n",
      "5  Shahroz      9  Science     80\n",
      "6   Areeba      9     Math     90\n",
      "7   Areeba      9  Science     67\n",
      "Class\n",
      "9     90\n",
      "10    95\n",
      "Name: Marks, dtype: int64\n"
     ]
    }
   ],
   "source": [
    "import pandas as pd\n",
    "\n",
    "data = {\n",
    "    \"Student\":['Ali','Ali','Sara','Sara','shahroz','Shahroz','Areeba','Areeba'],\n",
    "    \"Class\"  :[10,10,10,10,9,9,9,9],\n",
    "    \"Subject\":['Math','Science','Math','Science','Math','Science','Math','Science'],\n",
    "    \"Marks\"  :[85,75,95,69,70,80,90,67]\n",
    "}\n",
    "\n",
    "df_std = pd.DataFrame(data)\n",
    "print(df_std)\n",
    "\n",
    "grouped = df_std.groupby(\"Class\")[\"Marks\"].max()\n",
    "print(grouped)"
   ]
  },
  {
   "cell_type": "markdown",
   "metadata": {},
   "source": [
    "Multiple Grouping"
   ]
  },
  {
   "cell_type": "code",
   "execution_count": 24,
   "metadata": {},
   "outputs": [
    {
     "name": "stdout",
     "output_type": "stream",
     "text": [
      "Class  Marks\n",
      "9      67        Areeba\n",
      "       70       shahroz\n",
      "       80       Shahroz\n",
      "       90        Areeba\n",
      "10     69          Sara\n",
      "       75           Ali\n",
      "       85           Ali\n",
      "       95          Sara\n",
      "Name: Student, dtype: object\n"
     ]
    }
   ],
   "source": [
    "Multi_group = df_std.groupby([\"Class\",\"Marks\"])[\"Student\"].sum()\n",
    "print(Multi_group)"
   ]
  },
  {
   "cell_type": "markdown",
   "metadata": {},
   "source": [
    "Common Aggregation Funtion\n",
    "1. sum()\n",
    "2. mean()\n",
    "3. count()\n",
    "4. min()\n",
    "5. max()\n",
    "6. std()"
   ]
  },
  {
   "cell_type": "markdown",
   "metadata": {},
   "source": [
    "# Marging & Joining"
   ]
  },
  {
   "cell_type": "markdown",
   "metadata": {},
   "source": [
    "📌 Merging ka matlab hota hai 2 ya zyada data sets ko join karna ek common column ke basis par. Ye SQL ke joins (INNER, LEFT, RIGHT, OUTER) jaise kaam karta hai."
   ]
  },
  {
   "cell_type": "code",
   "execution_count": 17,
   "metadata": {},
   "outputs": [
    {
     "name": "stdout",
     "output_type": "stream",
     "text": [
      "   CustomerID   C_Name\n",
      "0           1  Shahroz\n",
      "1           2     Umar\n",
      "2           3   Areeba\n",
      "3           4  Wajahat\n",
      "4           5   Maryam\n",
      "5           6    Nimra\n",
      "\n",
      "   CustomerID product_name  OrderAmount\n",
      "0           1       Laptop        80000\n",
      "1           2   Smartphone        50000\n",
      "2           3   Headphones         7000\n",
      "3           4     Keyboard         3500\n",
      "4           5        Mouse         1500\n",
      "5           6   Smartwatch        12000\n"
     ]
    }
   ],
   "source": [
    "import pandas as pd\n",
    "\n",
    "#Customer DataFrame\n",
    "data = {\n",
    "    \"CustomerID\" : [1,2,3,4,5,6],\n",
    "    \"C_Name\"     : ['Shahroz','Umar','Areeba','Wajahat','Maryam','Nimra']\n",
    "}\n",
    "#Order DataFrame\n",
    "data1 = {\n",
    "    \"CustomerID\" : [1,2,3,4,5,6],\n",
    "    \"product_name\":[\"Laptop\",\"Smartphone\",\"Headphones\",\"Keyboard\",\"Mouse\",\"Smartwatch\"],\n",
    "    \"OrderAmount\": [80000, 50000, 7000, 3500, 1500, 12000]\n",
    "}\n",
    "\n",
    "df_customer = pd.DataFrame(data)\n",
    "print(df_customer)\n",
    "df_order = pd.DataFrame(data1)\n",
    "print(\"\")\n",
    "print(df_order)"
   ]
  },
  {
   "cell_type": "markdown",
   "metadata": {},
   "source": [
    "Apply for Marging Inner Join"
   ]
  },
  {
   "cell_type": "code",
   "execution_count": 18,
   "metadata": {},
   "outputs": [
    {
     "name": "stdout",
     "output_type": "stream",
     "text": [
      "Inner Join\n",
      "   CustomerID   C_Name product_name  OrderAmount\n",
      "0           1  Shahroz       Laptop        80000\n",
      "1           2     Umar   Smartphone        50000\n",
      "2           3   Areeba   Headphones         7000\n",
      "3           4  Wajahat     Keyboard         3500\n",
      "4           5   Maryam        Mouse         1500\n",
      "5           6    Nimra   Smartwatch        12000\n"
     ]
    }
   ],
   "source": [
    "df_marged = pd.merge(df_customer,df_order, on=\"CustomerID\",how=\"inner\")\n",
    "print(\"Inner Join\")\n",
    "print(df_marged)"
   ]
  },
  {
   "cell_type": "markdown",
   "metadata": {},
   "source": [
    "Apply for Marging Outer Join"
   ]
  },
  {
   "cell_type": "code",
   "execution_count": 19,
   "metadata": {},
   "outputs": [
    {
     "name": "stdout",
     "output_type": "stream",
     "text": [
      "   CustomerID   C_Name product_name  OrderAmount\n",
      "0           1  Shahroz       Laptop        80000\n",
      "1           2     Umar   Smartphone        50000\n",
      "2           3   Areeba   Headphones         7000\n",
      "3           4  Wajahat     Keyboard         3500\n",
      "4           5   Maryam        Mouse         1500\n",
      "5           6    Nimra   Smartwatch        12000\n"
     ]
    }
   ],
   "source": [
    "df_marged_outer = pd.merge(df_customer,df_order,on=\"CustomerID\",how=\"outer\")\n",
    "print(df_marged_outer)"
   ]
  },
  {
   "cell_type": "markdown",
   "metadata": {},
   "source": [
    "🔹 Concatenation ka matlab hota hai do ya zyada DataFrames / Series ko jodna — row-wise ya column-wise.\n",
    "Ye Python ke pandas.concat() function se hota hai.\n",
    "\n",
    "🔑 Summary:\n",
    "\n",
    "axis=0 → rows concatenate (default)\n",
    "\n",
    "axis=1 → columns concatenate"
   ]
  },
  {
   "cell_type": "code",
   "execution_count": null,
   "metadata": {},
   "outputs": [],
   "source": [
    "import pandas as pd\n",
    "\n",
    "#Region1\n",
    "df_DSet1 = pd.DataFrame({\n",
    "    'Roll_no' : [1,2,3],\n",
    "    'S_Name'  : ['Wajahat','Meerab','Zeeyan']\n",
    "})\n",
    "\n",
    "#Region1\n",
    "df_DSet2 = pd.DataFrame({\n",
    "    'Roll_no' : [4,5,6],\n",
    "    'S_Name'  : ['Shahroz','Nimra','Sidra']\n",
    "})\n",
    "\n"
   ]
  },
  {
   "cell_type": "markdown",
   "metadata": {},
   "source": [
    "↕ Vertically Concatenate"
   ]
  },
  {
   "cell_type": "code",
   "execution_count": 29,
   "metadata": {},
   "outputs": [
    {
     "name": "stdout",
     "output_type": "stream",
     "text": [
      "   Roll_no   S_Name\n",
      "0        1  Shahroz\n",
      "1        2   Meerab\n",
      "2        3   Zeeyan\n",
      "3        4  Wajahat\n",
      "4        5    Nimra\n",
      "5        6    Sidra\n"
     ]
    }
   ],
   "source": [
    "df_vertical_concate = pd.concat([df_DSet1, df_DSet2], ignore_index=True)\n",
    "print(df_vertical_concate)"
   ]
  },
  {
   "cell_type": "markdown",
   "metadata": {},
   "source": [
    "↔ Horizontal Concatenate\n",
    "\n",
    "Only Add \"axis=1\""
   ]
  },
  {
   "cell_type": "code",
   "execution_count": 30,
   "metadata": {},
   "outputs": [
    {
     "name": "stdout",
     "output_type": "stream",
     "text": [
      "   0        1  2        3\n",
      "0  1  Shahroz  4  Wajahat\n",
      "1  2   Meerab  5    Nimra\n",
      "2  3   Zeeyan  6    Sidra\n"
     ]
    }
   ],
   "source": [
    "df_horizontal_concate = pd.concat([df_DSet1, df_DSet2],axis=1, ignore_index=True)\n",
    "print(df_horizontal_concate)"
   ]
  },
  {
   "cell_type": "markdown",
   "metadata": {},
   "source": []
  }
 ],
 "metadata": {
  "colab": {
   "authorship_tag": "ABX9TyNEgOOrRM8HMyiXKoHUWGDa",
   "mount_file_id": "1ERc1HpULTfm5exYJGGarXpCUchQ5gM6R",
   "private_outputs": true,
   "provenance": []
  },
  "kernelspec": {
   "display_name": ".venv (3.13.6)",
   "language": "python",
   "name": "python3"
  },
  "language_info": {
   "codemirror_mode": {
    "name": "ipython",
    "version": 3
   },
   "file_extension": ".py",
   "mimetype": "text/x-python",
   "name": "python",
   "nbconvert_exporter": "python",
   "pygments_lexer": "ipython3",
   "version": "3.13.6"
  }
 },
 "nbformat": 4,
 "nbformat_minor": 0
}
