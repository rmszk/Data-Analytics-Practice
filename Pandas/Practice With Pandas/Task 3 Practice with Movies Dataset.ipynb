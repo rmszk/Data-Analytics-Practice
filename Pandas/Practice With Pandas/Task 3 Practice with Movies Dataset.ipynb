{
 "cells": [
  {
   "cell_type": "markdown",
   "id": "ffcd5a70",
   "metadata": {},
   "source": [
    "# 🎬 Movies Dataset – Practice Questions\n",
    "\n",
    "1. Dataset load karke first 5 rows dekho.\n",
    "\n",
    "2. Dataset me total movies count karo.\n",
    "\n",
    "3. Kis director ne sabse zyada movies banayi hain is dataset me?\n",
    "\n",
    "4. Har genre ki average rating nikaalo.\n",
    "\n",
    "5. Kis movie ka Box Office collection sabse zyada hai?\n",
    "\n",
    "6. 2000 ke baad release hui movies ki list banao.\n",
    "\n",
    "7. Top 3 movies rating ke hisaab se kaun si hain?\n",
    "\n",
    "8. Genre-wise total Box Office collection nikaalo.\n",
    "\n",
    "9. Kis director ki movies ka average rating sabse zyada hai?\n",
    "\n",
    "10. Dataset ka .describe() check karo aur samjho."
   ]
  },
  {
   "cell_type": "markdown",
   "id": "fe0079a5",
   "metadata": {},
   "source": [
    "1. Dataset load karke first 5 rows dekho."
   ]
  },
  {
   "cell_type": "code",
   "execution_count": 4,
   "id": "0f1db047",
   "metadata": {},
   "outputs": [
    {
     "name": "stdout",
     "output_type": "stream",
     "text": [
      "             Movie  Year      Genre           Director  Rating  BoxOffice\n",
      "0        Inception  2010     Sci-Fi  Christopher Nolan     8.8        829\n",
      "1         Avengers  2012     Action        Joss Whedon     8.0       1518\n",
      "2          Titanic  1997    Romance      James Cameron     7.8       2187\n",
      "3  The Dark Knight  2008     Action  Christopher Nolan     9.0       1004\n",
      "4     Interstellar  2014     Sci-Fi  Christopher Nolan     8.6        677\n",
      "5           Frozen  2013  Animation         Chris Buck     7.5       1276\n",
      "6            Joker  2019      Drama      Todd Phillips     8.5       1074\n",
      "7           Avatar  2009     Sci-Fi      James Cameron     7.9       2847\n",
      "8    The Lion King  1994  Animation       Roger Allers     8.5        968\n",
      "9       Spider-Man  2002     Action          Sam Raimi     7.3        825\n",
      "\n",
      "             Movie  Year    Genre           Director  Rating  BoxOffice\n",
      "0        Inception  2010   Sci-Fi  Christopher Nolan     8.8        829\n",
      "1         Avengers  2012   Action        Joss Whedon     8.0       1518\n",
      "2          Titanic  1997  Romance      James Cameron     7.8       2187\n",
      "3  The Dark Knight  2008   Action  Christopher Nolan     9.0       1004\n",
      "4     Interstellar  2014   Sci-Fi  Christopher Nolan     8.6        677\n"
     ]
    }
   ],
   "source": [
    "import pandas as pd\n",
    "df = pd.read_csv(\"Task_3_movies_data.csv\")\n",
    "\n",
    "print(df)\n",
    "print(\"\")\n",
    "print(df.head(5))"
   ]
  },
  {
   "cell_type": "markdown",
   "id": "3a14644c",
   "metadata": {},
   "source": [
    "\n",
    "2. Dataset me total movies count karo."
   ]
  },
  {
   "cell_type": "code",
   "execution_count": 7,
   "id": "b654cfa0",
   "metadata": {},
   "outputs": [
    {
     "name": "stdout",
     "output_type": "stream",
     "text": [
      "Total Movies:  10\n"
     ]
    }
   ],
   "source": [
    "count_movies = df[\"Movie\"].count()\n",
    "print(\"Total Movies: \",count_movies)"
   ]
  },
  {
   "cell_type": "markdown",
   "id": "d6fb5e4e",
   "metadata": {},
   "source": [
    "\n",
    "\n",
    "3. Kis director ne sabse zyada movies banayi hain is dataset me?"
   ]
  },
  {
   "cell_type": "code",
   "execution_count": 24,
   "id": "dcd744bd",
   "metadata": {},
   "outputs": [
    {
     "name": "stdout",
     "output_type": "stream",
     "text": [
      "Director    Christopher Nolan\n",
      "Year        Christopher Nolan\n",
      "dtype: object\n"
     ]
    }
   ],
   "source": [
    "group = df.groupby(\"Director\")[[\"Director\",\"Year\"]].count().idxmax(axis=0)\n",
    "print(group)"
   ]
  },
  {
   "cell_type": "markdown",
   "id": "04277f7c",
   "metadata": {},
   "source": [
    "\n",
    "\n",
    "4. Har genre ki average rating nikaalo."
   ]
  },
  {
   "cell_type": "code",
   "execution_count": 28,
   "id": "1b7cb61d",
   "metadata": {},
   "outputs": [
    {
     "name": "stdout",
     "output_type": "stream",
     "text": [
      "Genre\n",
      "Action       8.100000\n",
      "Animation    8.000000\n",
      "Drama        8.500000\n",
      "Romance      7.800000\n",
      "Sci-Fi       8.433333\n",
      "Name: Rating, dtype: float64\n"
     ]
    }
   ],
   "source": [
    "Average_Rating = df.groupby(\"Genre\")[\"Rating\"].mean()\n",
    "print(Average_Rating)"
   ]
  },
  {
   "cell_type": "markdown",
   "id": "7d70c781",
   "metadata": {},
   "source": [
    "5. Kis movie ka Box Office collection sabse zyada hai?"
   ]
  },
  {
   "cell_type": "code",
   "execution_count": 34,
   "id": "07ad8852",
   "metadata": {},
   "outputs": [
    {
     "name": "stdout",
     "output_type": "stream",
     "text": [
      "Avatar 2847\n"
     ]
    }
   ],
   "source": [
    "max_boxoffice = df.loc[df[\"BoxOffice\"].idxmax()]\n",
    "\n",
    "print(max_boxoffice[\"Movie\"], max_boxoffice[\"BoxOffice\"])"
   ]
  },
  {
   "cell_type": "markdown",
   "id": "f3d0c5be",
   "metadata": {},
   "source": [
    "6. 2000 ke baad release hui movies ki list banao."
   ]
  },
  {
   "cell_type": "code",
   "execution_count": 39,
   "id": "908c932f",
   "metadata": {},
   "outputs": [
    {
     "name": "stdout",
     "output_type": "stream",
     "text": [
      "             Movie  Year\n",
      "0        Inception  2010\n",
      "1         Avengers  2012\n",
      "3  The Dark Knight  2008\n",
      "4     Interstellar  2014\n",
      "5           Frozen  2013\n",
      "6            Joker  2019\n",
      "7           Avatar  2009\n",
      "9       Spider-Man  2002\n"
     ]
    }
   ],
   "source": [
    "movie_after_2000 = df[df[\"Year\"] > 2000]\n",
    "print(movie_after_2000[[\"Movie\",\"Year\"]])\n"
   ]
  },
  {
   "cell_type": "markdown",
   "id": "cd5a91f6",
   "metadata": {},
   "source": [
    "\n",
    "\n",
    "7. Top 3 movies rating ke hisaab se kaun si hain?"
   ]
  },
  {
   "cell_type": "code",
   "execution_count": 43,
   "id": "473f8ce8",
   "metadata": {},
   "outputs": [
    {
     "name": "stdout",
     "output_type": "stream",
     "text": [
      "             Movie  Rating\n",
      "3  The Dark Knight     9.0\n",
      "0        Inception     8.8\n",
      "4     Interstellar     8.6\n"
     ]
    }
   ],
   "source": [
    "top_3_movie = df.nlargest(3, \"Rating\")[[\"Movie\",\"Rating\"]]\n",
    "print(top_3_movie)"
   ]
  },
  {
   "cell_type": "markdown",
   "id": "6e315176",
   "metadata": {},
   "source": [
    "\n",
    "\n",
    "8. Genre-wise total Box Office collection nikaalo."
   ]
  },
  {
   "cell_type": "code",
   "execution_count": 45,
   "id": "da2d91ea",
   "metadata": {},
   "outputs": [
    {
     "name": "stdout",
     "output_type": "stream",
     "text": [
      "       Genre  BoxOffice\n",
      "0     Action       3347\n",
      "1  Animation       2244\n",
      "2      Drama       1074\n",
      "3    Romance       2187\n",
      "4     Sci-Fi       4353\n"
     ]
    }
   ],
   "source": [
    "genre_box_office = df.groupby(\"Genre\")[\"BoxOffice\"].sum().reset_index()\n",
    "print(genre_box_office)"
   ]
  },
  {
   "cell_type": "markdown",
   "id": "d49d45b6",
   "metadata": {},
   "source": [
    "\n",
    "\n",
    "9. Kis director ki movies ka average rating sabse zyada hai?"
   ]
  },
  {
   "cell_type": "code",
   "execution_count": 55,
   "id": "98a7f444",
   "metadata": {},
   "outputs": [
    {
     "name": "stdout",
     "output_type": "stream",
     "text": [
      "Christopher Nolan 8.799999999999999\n"
     ]
    }
   ],
   "source": [
    "director_avg = df.groupby(\"Director\")[\"Rating\"].mean()\n",
    "# Sabse zyada avg rating wala director\n",
    "best_director = director_avg.idxmax()\n",
    "best_rating = director_avg.max()\n",
    "\n",
    "print(best_director, best_rating)"
   ]
  },
  {
   "cell_type": "markdown",
   "id": "3fdbceb0",
   "metadata": {},
   "source": [
    "10. Dataset ka .describe() check karo aur samjho."
   ]
  },
  {
   "cell_type": "code",
   "execution_count": 56,
   "id": "cb3ebfe3",
   "metadata": {},
   "outputs": [
    {
     "name": "stdout",
     "output_type": "stream",
     "text": [
      "              Year     Rating    BoxOffice\n",
      "count    10.000000  10.000000    10.000000\n",
      "mean   2007.800000   8.190000  1320.500000\n",
      "std       7.857056   0.570477   691.888438\n",
      "min    1994.000000   7.300000   677.000000\n",
      "25%    2003.500000   7.825000   863.750000\n",
      "50%    2009.500000   8.250000  1039.000000\n",
      "75%    2012.750000   8.575000  1457.500000\n",
      "max    2019.000000   9.000000  2847.000000\n"
     ]
    }
   ],
   "source": [
    "print(df.describe())"
   ]
  },
  {
   "cell_type": "code",
   "execution_count": null,
   "id": "6d74c9e4",
   "metadata": {},
   "outputs": [],
   "source": []
  }
 ],
 "metadata": {
  "kernelspec": {
   "display_name": ".venv (3.13.6)",
   "language": "python",
   "name": "python3"
  },
  "language_info": {
   "codemirror_mode": {
    "name": "ipython",
    "version": 3
   },
   "file_extension": ".py",
   "mimetype": "text/x-python",
   "name": "python",
   "nbconvert_exporter": "python",
   "pygments_lexer": "ipython3",
   "version": "3.13.6"
  }
 },
 "nbformat": 4,
 "nbformat_minor": 5
}
