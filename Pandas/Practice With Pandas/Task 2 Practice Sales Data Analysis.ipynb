{
 "cells": [
  {
   "cell_type": "markdown",
   "id": "48d6cd46",
   "metadata": {},
   "source": [
    "# 📘 Sales Data Analysis – Practice Questions\n",
    "\n",
    "1. Dataset ko pandas se load karo aur first 5 rows dekho.\n",
    "\n",
    "2. Total rows aur columns count karo.\n",
    "\n",
    "3. Har product ka total revenue calculate karo (Revenue = Quantity × Price).\n",
    "\n",
    "4. Kis product ka revenue sabse zyada hai?\n",
    "\n",
    "5. Region-wise total sales (revenue) nikaalo.\n",
    "\n",
    "6. January 2025 ke andar kaunsa product sabse zyada bikha?\n",
    "\n",
    "7. Kis region ne sabse zyada laptops kharide?\n",
    "\n",
    "8. Monthly sales ka trend nikaalo (Jan, Feb, Mar).\n",
    "\n",
    "9. Top 3 best-selling products (quantity ke hisaab se) dikhayo.\n",
    "\n",
    "10. Dataset ka summary statistics check karo aur samjho."
   ]
  },
  {
   "cell_type": "markdown",
   "id": "fe995c94",
   "metadata": {},
   "source": [
    "1. Dataset ko pandas se load karo aur first 5 rows dekho.\n",
    "\n"
   ]
  },
  {
   "cell_type": "code",
   "execution_count": 6,
   "id": "31155c51",
   "metadata": {},
   "outputs": [
    {
     "name": "stdout",
     "output_type": "stream",
     "text": [
      "          Date     Product     Region  Quantity  Price\n",
      "0   2025-01-01      Laptop    Karachi         2    800\n",
      "1   2025-01-02      Mobile     Lahore         5    500\n",
      "2   2025-01-03      Tablet  Islamabad         3    300\n",
      "3   2025-01-04      Laptop    Karachi         1    820\n",
      "4   2025-01-05  Headphones     Lahore         7    100\n",
      "5   2025-02-01      Mobile    Karachi         4    510\n",
      "6   2025-02-02      Laptop     Lahore         2    810\n",
      "7   2025-02-03      Tablet  Islamabad         6    310\n",
      "8   2025-02-04  Headphones    Karachi         3    120\n",
      "9   2025-02-05      Mobile  Islamabad         5    495\n",
      "10  2025-03-01      Laptop     Lahore         2    815\n",
      "11  2025-03-02      Tablet    Karachi         1    305\n",
      "12  2025-03-03      Mobile  Islamabad         4    505\n",
      "13  2025-03-04      Laptop     Lahore         3    820\n",
      "14  2025-03-05  Headphones    Karachi         6    110\n",
      "\n",
      "Top 5 Row\n",
      "         Date     Product     Region  Quantity  Price\n",
      "0  2025-01-01      Laptop    Karachi         2    800\n",
      "1  2025-01-02      Mobile     Lahore         5    500\n",
      "2  2025-01-03      Tablet  Islamabad         3    300\n",
      "3  2025-01-04      Laptop    Karachi         1    820\n",
      "4  2025-01-05  Headphones     Lahore         7    100\n"
     ]
    }
   ],
   "source": [
    "import pandas as pd\n",
    "\n",
    "df = pd.read_csv(\"Task_2_sales_data.csv\")\n",
    "print(df)\n",
    "print(\"\\nTop 5 Row\")\n",
    "print(df.head(5))\n"
   ]
  },
  {
   "cell_type": "markdown",
   "id": "d2f30075",
   "metadata": {},
   "source": [
    "2. Total rows aur columns count karo.\n",
    "\n"
   ]
  },
  {
   "cell_type": "code",
   "execution_count": 7,
   "id": "26fa1267",
   "metadata": {},
   "outputs": [
    {
     "name": "stdout",
     "output_type": "stream",
     "text": [
      "<class 'pandas.core.frame.DataFrame'>\n",
      "RangeIndex: 15 entries, 0 to 14\n",
      "Data columns (total 5 columns):\n",
      " #   Column    Non-Null Count  Dtype \n",
      "---  ------    --------------  ----- \n",
      " 0   Date      15 non-null     object\n",
      " 1   Product   15 non-null     object\n",
      " 2   Region    15 non-null     object\n",
      " 3   Quantity  15 non-null     int64 \n",
      " 4   Price     15 non-null     int64 \n",
      "dtypes: int64(2), object(3)\n",
      "memory usage: 732.0+ bytes\n",
      "None\n"
     ]
    }
   ],
   "source": [
    "print(df.info())"
   ]
  },
  {
   "cell_type": "markdown",
   "id": "41507167",
   "metadata": {},
   "source": [
    "3. Har product ka total revenue calculate karo (Revenue = Quantity × Price).\n",
    "\n"
   ]
  },
  {
   "cell_type": "code",
   "execution_count": null,
   "id": "4e31471f",
   "metadata": {},
   "outputs": [
    {
     "name": "stdout",
     "output_type": "stream",
     "text": [
      "          Date     Product     Region  Quantity  Price  Revenue\n",
      "0   2025-01-01      Laptop    Karachi         2    800     1600\n",
      "1   2025-01-02      Mobile     Lahore         5    500     2500\n",
      "2   2025-01-03      Tablet  Islamabad         3    300      900\n",
      "3   2025-01-04      Laptop    Karachi         1    820      820\n",
      "4   2025-01-05  Headphones     Lahore         7    100      700\n",
      "5   2025-02-01      Mobile    Karachi         4    510     2040\n",
      "6   2025-02-02      Laptop     Lahore         2    810     1620\n",
      "7   2025-02-03      Tablet  Islamabad         6    310     1860\n",
      "8   2025-02-04  Headphones    Karachi         3    120      360\n",
      "9   2025-02-05      Mobile  Islamabad         5    495     2475\n",
      "10  2025-03-01      Laptop     Lahore         2    815     1630\n",
      "11  2025-03-02      Tablet    Karachi         1    305      305\n",
      "12  2025-03-03      Mobile  Islamabad         4    505     2020\n",
      "13  2025-03-04      Laptop     Lahore         3    820     2460\n",
      "14  2025-03-05  Headphones    Karachi         6    110      660\n"
     ]
    }
   ],
   "source": [
    "df[\"Revenue\"] = df[['Quantity','Price']].prod(axis=1)\n",
    "print(df)"
   ]
  },
  {
   "cell_type": "markdown",
   "id": "e4605b96",
   "metadata": {},
   "source": [
    "4. Kis product ka revenue sabse zyada hai?\n"
   ]
  },
  {
   "cell_type": "code",
   "execution_count": 14,
   "id": "0642bf7d",
   "metadata": {},
   "outputs": [
    {
     "name": "stdout",
     "output_type": "stream",
     "text": [
      "1 Product: Mobile price: 500 revenue: 2500\n"
     ]
    }
   ],
   "source": [
    "hig_revenue = df[\"Revenue\"].idxmax()\n",
    "pro = df.loc[hig_revenue,\"Product\"]\n",
    "price = df.loc[hig_revenue,\"Price\"]\n",
    "revenue = df.loc[hig_revenue,\"Revenue\"]\n",
    "\n",
    "print(f\"{hig_revenue} Product: {pro} price: {price} revenue: {revenue}\")"
   ]
  },
  {
   "cell_type": "markdown",
   "id": "2245f198",
   "metadata": {},
   "source": [
    "\n",
    "5. Region-wise total sales (revenue) nikaalo.\n",
    "\n"
   ]
  },
  {
   "cell_type": "code",
   "execution_count": 17,
   "id": "9603c52e",
   "metadata": {},
   "outputs": [
    {
     "name": "stdout",
     "output_type": "stream",
     "text": [
      "Region\n",
      "Islamabad    7255\n",
      "Karachi      5785\n",
      "Lahore       8910\n",
      "Name: Revenue, dtype: int64\n"
     ]
    }
   ],
   "source": [
    "group = df.groupby(\"Region\")[\"Revenue\"].sum()\n",
    "print(group)"
   ]
  },
  {
   "cell_type": "markdown",
   "id": "1d0c0cc8",
   "metadata": {},
   "source": [
    "6. January 2025 ke andar kaunsa product sabse zyada bikha?\n",
    "\n"
   ]
  },
  {
   "cell_type": "code",
   "execution_count": 35,
   "id": "e708c74a",
   "metadata": {},
   "outputs": [
    {
     "name": "stdout",
     "output_type": "stream",
     "text": [
      "            Quantity\n",
      "Product             \n",
      "Headphones         7\n",
      "Laptop             2\n",
      "Mobile             5\n",
      "Tablet             3\n",
      "\n",
      "        Date     Product     Region  Quantity  Price\n",
      "0 2025-01-01      Laptop    Karachi         2    800\n",
      "1 2025-01-02      Mobile     Lahore         5    500\n",
      "2 2025-01-03      Tablet  Islamabad         3    300\n",
      "3 2025-01-04      Laptop    Karachi         1    820\n",
      "4 2025-01-05  Headphones     Lahore         7    100\n"
     ]
    }
   ],
   "source": [
    "df[\"Date\"] = pd.to_datetime(df[\"Date\"])\n",
    "\n",
    "jan_date = df[df[\"Date\"].dt.month == 1]\n",
    "jan_date = jan_date[jan_date[\"Date\"].dt.year == 2025]\n",
    "\n",
    "hig_sale = jan_date.groupby(\"Product\")[[\"Quantity\"]].max()\n",
    "print(hig_sale)\n",
    "print(\"\")\n",
    "print(jan_date)"
   ]
  },
  {
   "cell_type": "markdown",
   "id": "1aa1d1f4",
   "metadata": {},
   "source": [
    "7. Kis region ne sabse zyada laptops kharide?\n",
    "\n"
   ]
  },
  {
   "cell_type": "markdown",
   "id": "a6e1320e",
   "metadata": {},
   "source": [
    "8. Monthly sales ka trend nikaalo (Jan, Feb, Mar).\n",
    "\n"
   ]
  },
  {
   "cell_type": "markdown",
   "id": "efcc2c94",
   "metadata": {},
   "source": [
    "9. Top 3 best-selling products (quantity ke hisaab se) dikhayo.\n",
    "\n"
   ]
  },
  {
   "cell_type": "markdown",
   "id": "3b74645a",
   "metadata": {},
   "source": [
    "10. Dataset ka summary statistics check karo aur samjho."
   ]
  }
 ],
 "metadata": {
  "kernelspec": {
   "display_name": ".venv (3.13.6)",
   "language": "python",
   "name": "python3"
  },
  "language_info": {
   "codemirror_mode": {
    "name": "ipython",
    "version": 3
   },
   "file_extension": ".py",
   "mimetype": "text/x-python",
   "name": "python",
   "nbconvert_exporter": "python",
   "pygments_lexer": "ipython3",
   "version": "3.13.6"
  }
 },
 "nbformat": 4,
 "nbformat_minor": 5
}
