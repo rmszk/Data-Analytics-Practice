{
 "cells": [
  {
   "cell_type": "markdown",
   "id": "a6cf26f0",
   "metadata": {},
   "source": [
    "# **📘 Student Marks Dataset – Practice Questions**\n",
    "\n",
    "1. Dataset ko pandas se load karo aur first 5 rows dekho.\n",
    "\n",
    "2. Dataset ke total rows aur columns count karo.\n",
    "\n",
    "3. Har student ke total marks aur average marks calculate karo.\n",
    "\n",
    "4. Subject-wise (Math, Science, English) maximum aur minimum marks find karo.\n",
    "\n",
    "5. Kis student ke Science me highest marks hain?\n",
    "\n",
    "6. Overall topper kaun hai (sab subjects ke total ke basis par)?\n",
    "\n",
    "7. Sirf un students ka record dikhayo jinke Math me 80 se zyada marks hain.\n",
    "\n",
    "8. Students ko unke English marks ke descending order me sort karo.\n",
    "\n",
    "9. Kaun kaun se students ke Math aur Science dono me 70+ marks hain?\n",
    "\n",
    "10. Dataset ka summary statistics (.describe()) nikalo aur samjho ke iska kya matlab hai."
   ]
  },
  {
   "cell_type": "markdown",
   "id": "97de4751",
   "metadata": {},
   "source": [
    "1. Dataset ko pandas se load karo aur first 5 rows dekho."
   ]
  },
  {
   "cell_type": "code",
   "execution_count": 5,
   "id": "db11a98e",
   "metadata": {},
   "outputs": [
    {
     "name": "stdout",
     "output_type": "stream",
     "text": [
      "  Student  Math  Science  English\n",
      "0     Ali    85       78       82\n",
      "1    Sara    92       88       94\n",
      "2   Usman    76       69       74\n",
      "3  Fatima    89       91       87\n",
      "4   Bilal    67       72       65\n",
      "5  Ayesha    95       84       90\n",
      "6   Hamza    58       60       70\n",
      "7  Zainab    73       77       79\n",
      "8    Omar    81       83       85\n",
      "9  Maryam    90       89       92\n",
      "Top 5 Row Dataset\n",
      "  Student  Math  Science  English\n",
      "0     Ali    85       78       82\n",
      "1    Sara    92       88       94\n",
      "2   Usman    76       69       74\n",
      "3  Fatima    89       91       87\n",
      "4   Bilal    67       72       65\n"
     ]
    }
   ],
   "source": [
    "import pandas as pd\n",
    "\n",
    "df = pd.read_csv(\"step_1_student_marks.csv\")\n",
    "print(df)\n",
    "print(\"Top 5 Row Dataset\")\n",
    "print(df.head(5))"
   ]
  },
  {
   "cell_type": "markdown",
   "id": "1dc78cee",
   "metadata": {},
   "source": [
    "2. Dataset ke total rows aur columns count karo."
   ]
  },
  {
   "cell_type": "code",
   "execution_count": 10,
   "id": "7e117990",
   "metadata": {},
   "outputs": [
    {
     "name": "stdout",
     "output_type": "stream",
     "text": [
      "<class 'pandas.core.frame.DataFrame'>\n",
      "RangeIndex: 10 entries, 0 to 9\n",
      "Data columns (total 4 columns):\n",
      " #   Column   Non-Null Count  Dtype \n",
      "---  ------   --------------  ----- \n",
      " 0   Student  10 non-null     object\n",
      " 1   Math     10 non-null     int64 \n",
      " 2   Science  10 non-null     int64 \n",
      " 3   English  10 non-null     int64 \n",
      "dtypes: int64(3), object(1)\n",
      "memory usage: 452.0+ bytes\n",
      "None\n"
     ]
    }
   ],
   "source": [
    "print(df.info())"
   ]
  },
  {
   "cell_type": "markdown",
   "id": "7548b976",
   "metadata": {},
   "source": [
    "3. Har student ke total marks aur average marks calculate karo."
   ]
  },
  {
   "cell_type": "code",
   "execution_count": 14,
   "id": "271f5a43",
   "metadata": {},
   "outputs": [
    {
     "name": "stdout",
     "output_type": "stream",
     "text": [
      "  Student  Math  Science  English  Total\n",
      "0     Ali    85       78       82    245\n",
      "1    Sara    92       88       94    274\n",
      "2   Usman    76       69       74    219\n",
      "3  Fatima    89       91       87    267\n",
      "4   Bilal    67       72       65    204\n",
      "5  Ayesha    95       84       90    269\n",
      "6   Hamza    58       60       70    188\n",
      "7  Zainab    73       77       79    229\n",
      "8    Omar    81       83       85    249\n",
      "9  Maryam    90       89       92    271\n"
     ]
    }
   ],
   "source": [
    "df[\"Total\"] = df[[\"Math\", \"Science\", \"English\"]].sum(axis=1)\n",
    "print(df)"
   ]
  },
  {
   "cell_type": "code",
   "execution_count": 15,
   "id": "826a118d",
   "metadata": {},
   "outputs": [
    {
     "name": "stdout",
     "output_type": "stream",
     "text": [
      "  Student  Math  Science  English  Total  Average_marks\n",
      "0     Ali    85       78       82    245      81.666667\n",
      "1    Sara    92       88       94    274      91.333333\n",
      "2   Usman    76       69       74    219      73.000000\n",
      "3  Fatima    89       91       87    267      89.000000\n",
      "4   Bilal    67       72       65    204      68.000000\n",
      "5  Ayesha    95       84       90    269      89.666667\n",
      "6   Hamza    58       60       70    188      62.666667\n",
      "7  Zainab    73       77       79    229      76.333333\n",
      "8    Omar    81       83       85    249      83.000000\n",
      "9  Maryam    90       89       92    271      90.333333\n"
     ]
    }
   ],
   "source": [
    "df[\"Average_marks\"] = df[[\"Math\",\"Science\",\"English\"]].mean(axis=1)\n",
    "print(df)"
   ]
  },
  {
   "cell_type": "markdown",
   "id": "5b897c82",
   "metadata": {},
   "source": [
    "4. Subject-wise (Math, Science, English) maximum aur minimum marks find karo.\n"
   ]
  },
  {
   "cell_type": "code",
   "execution_count": 31,
   "id": "eef89808",
   "metadata": {},
   "outputs": [
    {
     "name": "stdout",
     "output_type": "stream",
     "text": [
      "Subject Wise Maximum Values\n",
      "\n",
      " Math       95\n",
      "Science    91\n",
      "English    94\n",
      "dtype: int64\n",
      "\n",
      "Subject Wise Minimum Values\n",
      "\n",
      " Math       58\n",
      "Science    60\n",
      "English    65\n",
      "dtype: int64\n"
     ]
    }
   ],
   "source": [
    "sub_max = df[[\"Math\",\"Science\",\"English\"]].max(axis=0)\n",
    "print(\"Subject Wise Maximum Values\\n\\n\",sub_max)\n",
    "\n",
    "sub_min = df[[\"Math\",\"Science\",\"English\"]].min(axis=0)\n",
    "print(\"\\nSubject Wise Minimum Values\\n\\n\",sub_min)"
   ]
  },
  {
   "cell_type": "markdown",
   "id": "cbeadcdd",
   "metadata": {},
   "source": [
    "5. Kis student ke Science me highest marks hain?\n"
   ]
  },
  {
   "cell_type": "code",
   "execution_count": 61,
   "id": "29d5a6c9",
   "metadata": {},
   "outputs": [
    {
     "name": "stdout",
     "output_type": "stream",
     "text": [
      "Topper in Science: Fatima With 91 Marks\n"
     ]
    }
   ],
   "source": [
    "max_sci = df[\"Science\"].idxmax()\n",
    "name = df.loc[max_sci,\"Student\"]\n",
    "mark = df.loc[max_sci,\"Science\"]\n",
    "\n",
    "print(f\"Topper in Science: {name} With {mark} Marks\")"
   ]
  },
  {
   "cell_type": "code",
   "execution_count": null,
   "id": "e6f35fa6",
   "metadata": {},
   "outputs": [],
   "source": []
  }
 ],
 "metadata": {
  "kernelspec": {
   "display_name": ".venv (3.13.6)",
   "language": "python",
   "name": "python3"
  },
  "language_info": {
   "codemirror_mode": {
    "name": "ipython",
    "version": 3
   },
   "file_extension": ".py",
   "mimetype": "text/x-python",
   "name": "python",
   "nbconvert_exporter": "python",
   "pygments_lexer": "ipython3",
   "version": "3.13.6"
  }
 },
 "nbformat": 4,
 "nbformat_minor": 5
}
