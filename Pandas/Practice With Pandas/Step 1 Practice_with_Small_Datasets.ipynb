{
 "cells": [
  {
   "cell_type": "markdown",
   "id": "a6cf26f0",
   "metadata": {},
   "source": [
    "# **📘 Student Marks Dataset – Practice Questions**\n",
    "\n",
    "1. Dataset ko pandas se load karo aur first 5 rows dekho.\n",
    "\n",
    "2. Dataset ke total rows aur columns count karo.\n",
    "\n",
    "3. Har student ke total marks aur average marks calculate karo.\n",
    "\n",
    "4. Subject-wise (Math, Science, English) maximum aur minimum marks find karo.\n",
    "\n",
    "5. Kis student ke Science me highest marks hain?\n",
    "\n",
    "6. Overall topper kaun hai (sab subjects ke total ke basis par)?\n",
    "\n",
    "7. Sirf un students ka record dikhayo jinke Math me 80 se zyada marks hain.\n",
    "\n",
    "8. Students ko unke English marks ke descending order me sort karo.\n",
    "\n",
    "9. Kaun kaun se students ke Math aur Science dono me 70+ marks hain?\n",
    "\n",
    "10. Dataset ka summary statistics (.describe()) nikalo aur samjho ke iska kya matlab hai."
   ]
  },
  {
   "cell_type": "markdown",
   "id": "97de4751",
   "metadata": {},
   "source": [
    "1. Dataset ko pandas se load karo aur first 5 rows dekho."
   ]
  },
  {
   "cell_type": "code",
   "execution_count": null,
   "id": "db11a98e",
   "metadata": {},
   "outputs": [
    {
     "name": "stdout",
     "output_type": "stream",
     "text": [
      "  Student  Math  Science  English\n",
      "0     Ali    85       78       82\n",
      "1    Sara    92       88       94\n",
      "2   Usman    76       69       74\n",
      "3  Fatima    89       91       87\n",
      "4   Bilal    67       72       65\n",
      "5  Ayesha    95       84       90\n",
      "6   Hamza    58       60       70\n",
      "7  Zainab    73       77       79\n",
      "8    Omar    81       83       85\n",
      "9  Maryam    90       89       92\n",
      "Top 5 Row Dataset\n",
      "  Student  Math  Science  English\n",
      "0     Ali    85       78       82\n",
      "1    Sara    92       88       94\n",
      "2   Usman    76       69       74\n",
      "3  Fatima    89       91       87\n",
      "4   Bilal    67       72       65\n"
     ]
    }
   ],
   "source": [
    "import pandas as pd\n",
    "\n",
    "df = pd.read_csv(\"step_1_student_marks.csv\")\n",
    "print(df)\n",
    "print(\"Top 5 Row Dataset\")\n",
    "print(df.head(5))"
   ]
  },
  {
   "cell_type": "markdown",
   "id": "1dc78cee",
   "metadata": {},
   "source": [
    "2. Dataset ke total rows aur columns count karo."
   ]
  },
  {
   "cell_type": "code",
   "execution_count": null,
   "id": "7e117990",
   "metadata": {},
   "outputs": [
    {
     "name": "stdout",
     "output_type": "stream",
     "text": [
      "<class 'pandas.core.frame.DataFrame'>\n",
      "RangeIndex: 10 entries, 0 to 9\n",
      "Data columns (total 4 columns):\n",
      " #   Column   Non-Null Count  Dtype \n",
      "---  ------   --------------  ----- \n",
      " 0   Student  10 non-null     object\n",
      " 1   Math     10 non-null     int64 \n",
      " 2   Science  10 non-null     int64 \n",
      " 3   English  10 non-null     int64 \n",
      "dtypes: int64(3), object(1)\n",
      "memory usage: 452.0+ bytes\n",
      "None\n"
     ]
    }
   ],
   "source": [
    "print(df.info())"
   ]
  },
  {
   "cell_type": "markdown",
   "id": "7548b976",
   "metadata": {},
   "source": [
    "3. Har student ke total marks aur average marks calculate karo."
   ]
  },
  {
   "cell_type": "code",
   "execution_count": null,
   "id": "271f5a43",
   "metadata": {},
   "outputs": [
    {
     "name": "stdout",
     "output_type": "stream",
     "text": [
      "  Student  Math  Science  English  Total\n",
      "0     Ali    85       78       82    245\n",
      "1    Sara    92       88       94    274\n",
      "2   Usman    76       69       74    219\n",
      "3  Fatima    89       91       87    267\n",
      "4   Bilal    67       72       65    204\n",
      "5  Ayesha    95       84       90    269\n",
      "6   Hamza    58       60       70    188\n",
      "7  Zainab    73       77       79    229\n",
      "8    Omar    81       83       85    249\n",
      "9  Maryam    90       89       92    271\n"
     ]
    }
   ],
   "source": [
    "df[\"Total\"] = df[[\"Math\", \"Science\", \"English\"]].sum(axis=1)\n",
    "print(df)"
   ]
  },
  {
   "cell_type": "code",
   "execution_count": 39,
   "id": "826a118d",
   "metadata": {},
   "outputs": [
    {
     "name": "stdout",
     "output_type": "stream",
     "text": [
      "  Student  Math  Science  English  Total  Average_marks\n",
      "0     Ali    85       78       82    245      81.666667\n",
      "1    Sara    92       88       94    274      91.333333\n",
      "2   Usman    76       69       74    219      73.000000\n",
      "3  Fatima    89       91       87    267      89.000000\n",
      "4   Bilal    67       72       65    204      68.000000\n",
      "5  Ayesha    95       84       90    269      89.666667\n",
      "6   Hamza    58       60       70    188      62.666667\n",
      "7  Zainab    73       77       79    229      76.333333\n",
      "8    Omar    81       83       85    249      83.000000\n",
      "9  Maryam    90       89       92    271      90.333333\n"
     ]
    }
   ],
   "source": [
    "df[\"Average_marks\"] = df[[\"Math\",\"Science\",\"English\"]].mean(axis=1)\n",
    "print(df)"
   ]
  },
  {
   "cell_type": "markdown",
   "id": "5b897c82",
   "metadata": {},
   "source": [
    "4. Subject-wise (Math, Science, English) maximum aur minimum marks find karo.\n"
   ]
  },
  {
   "cell_type": "code",
   "execution_count": null,
   "id": "eef89808",
   "metadata": {},
   "outputs": [
    {
     "name": "stdout",
     "output_type": "stream",
     "text": [
      "Subject Wise Maximum Values\n",
      "\n",
      " Math       95\n",
      "Science    91\n",
      "English    94\n",
      "dtype: int64\n",
      "\n",
      "Subject Wise Minimum Values\n",
      "\n",
      " Math       58\n",
      "Science    60\n",
      "English    65\n",
      "dtype: int64\n"
     ]
    }
   ],
   "source": [
    "sub_max = df[[\"Math\",\"Science\",\"English\"]].max(axis=0)\n",
    "print(\"Subject Wise Maximum Values\\n\\n\",sub_max)\n",
    "\n",
    "sub_min = df[[\"Math\",\"Science\",\"English\"]].min(axis=0)\n",
    "print(\"\\nSubject Wise Minimum Values\\n\\n\",sub_min)"
   ]
  },
  {
   "cell_type": "markdown",
   "id": "cbeadcdd",
   "metadata": {},
   "source": [
    "5. Kis student ke Science me highest marks hain?\n"
   ]
  },
  {
   "cell_type": "code",
   "execution_count": null,
   "id": "29d5a6c9",
   "metadata": {},
   "outputs": [
    {
     "name": "stdout",
     "output_type": "stream",
     "text": [
      "Topper in Science: Fatima With 91 Marks\n"
     ]
    }
   ],
   "source": [
    "max_sci = df[\"Science\"].idxmax()\n",
    "name = df.loc[max_sci,\"Student\"]\n",
    "mark = df.loc[max_sci,\"Science\"]\n",
    "\n",
    "print(f\"Topper in Science: {name} With {mark} Marks\")"
   ]
  },
  {
   "cell_type": "markdown",
   "id": "2d7e7cbf",
   "metadata": {},
   "source": [
    "6. Overall topper kaun hai (sab subjects ke total ke basis par)?\n"
   ]
  },
  {
   "cell_type": "code",
   "execution_count": null,
   "id": "527dd9a1",
   "metadata": {},
   "outputs": [
    {
     "name": "stdout",
     "output_type": "stream",
     "text": [
      "Overall Students Heighest Mark: Sara with 274 Mark\n"
     ]
    }
   ],
   "source": [
    "max_total = df[\"Total\"].idxmax()\n",
    "name_Overall = df.loc[max_total,\"Student\"]\n",
    "Total_mark = df.loc[max_total,\"Total\"]\n",
    "\n",
    "print(f\"Overall Students Heighest Mark: {name_Overall} with {Total_mark} Mark\")"
   ]
  },
  {
   "cell_type": "markdown",
   "id": "b272a22d",
   "metadata": {},
   "source": [
    "7. Sirf un students ka record dikhayo jinke Math me 80 se zyada marks hain.\n"
   ]
  },
  {
   "cell_type": "code",
   "execution_count": 40,
   "id": "917fa1bd",
   "metadata": {},
   "outputs": [
    {
     "name": "stdout",
     "output_type": "stream",
     "text": [
      "  Student  Math  Average_marks\n",
      "0     Ali    85      81.666667\n",
      "1    Sara    92      91.333333\n",
      "3  Fatima    89      89.000000\n",
      "5  Ayesha    95      89.666667\n",
      "8    Omar    81      83.000000\n",
      "9  Maryam    90      90.333333\n"
     ]
    }
   ],
   "source": [
    "math_marks = df[df['Math'] > 80][['Student','Math','Average_marks']]\n",
    "n_student = df[[\"Student\",\"Total\"]]\n",
    "#num = df.loc[math_marks,\"Math\"]\n",
    "#print(n_student,num)\n",
    "print(math_marks)"
   ]
  },
  {
   "cell_type": "markdown",
   "id": "336018ed",
   "metadata": {},
   "source": [
    "\n",
    "8. Students ko unke English marks ke descending order me sort karo."
   ]
  },
  {
   "cell_type": "code",
   "execution_count": 46,
   "id": "b0c15239",
   "metadata": {},
   "outputs": [
    {
     "name": "stdout",
     "output_type": "stream",
     "text": [
      "  Student  Math  Average_marks\n",
      "1    Sara    92      91.333333\n",
      "9  Maryam    90      90.333333\n",
      "5  Ayesha    95      89.666667\n",
      "3  Fatima    89      89.000000\n",
      "8    Omar    81      83.000000\n",
      "0     Ali    85      81.666667\n",
      "7  Zainab    73      76.333333\n",
      "2   Usman    76      73.000000\n",
      "6   Hamza    58      62.666667\n",
      "4   Bilal    67      68.000000\n"
     ]
    }
   ],
   "source": [
    "sort_mark = df.sort_values(by=['English'], ascending=False)[['Student','Math','Average_marks']]\n",
    "print(sort_mark)"
   ]
  },
  {
   "cell_type": "markdown",
   "id": "6a2bbce7",
   "metadata": {},
   "source": [
    "\n",
    "9. Kaun kaun se students ke Math aur Science dono me 70+ marks hain?\n",
    "\n"
   ]
  },
  {
   "cell_type": "code",
   "execution_count": 49,
   "id": "01ccec9a",
   "metadata": {},
   "outputs": [
    {
     "name": "stdout",
     "output_type": "stream",
     "text": [
      "  Student  Math  Science  Average_marks\n",
      "0     Ali    85       78      81.666667\n",
      "1    Sara    92       88      91.333333\n",
      "3  Fatima    89       91      89.000000\n",
      "5  Ayesha    95       84      89.666667\n",
      "7  Zainab    73       77      76.333333\n",
      "8    Omar    81       83      83.000000\n",
      "9  Maryam    90       89      90.333333\n"
     ]
    }
   ],
   "source": [
    "filter1 = df[(df['Math'] >= 70) & (df['Science'] >= 70)][['Student','Math','Science','Average_marks']]\n",
    "print(filter1)"
   ]
  },
  {
   "cell_type": "markdown",
   "id": "37c573a6",
   "metadata": {},
   "source": [
    "10. Dataset ka summary statistics (.describe()) nikalo aur samjho ke iska kya matlab hai."
   ]
  },
  {
   "cell_type": "code",
   "execution_count": 50,
   "id": "e6f35fa6",
   "metadata": {},
   "outputs": [
    {
     "name": "stdout",
     "output_type": "stream",
     "text": [
      "Descriptive Statistics\n",
      "            Math   Science    English       Total  Average_marks\n",
      "count  10.000000  10.00000  10.000000   10.000000      10.000000\n",
      "mean   80.600000  79.10000  81.800000  241.500000      80.500000\n",
      "std    11.974046   9.89332   9.704524   30.427509      10.142503\n",
      "min    58.000000  60.00000  65.000000  188.000000      62.666667\n",
      "25%    73.750000  73.25000  75.250000  221.500000      73.833333\n",
      "50%    83.000000  80.50000  83.500000  247.000000      82.333333\n",
      "75%    89.750000  87.00000  89.250000  268.500000      89.500000\n",
      "max    95.000000  91.00000  94.000000  274.000000      91.333333\n"
     ]
    }
   ],
   "source": [
    "print('Descriptive Statistics')\n",
    "describe_data = df.describe()\n",
    "print(describe_data)"
   ]
  },
  {
   "cell_type": "code",
   "execution_count": null,
   "id": "6dfcf07f",
   "metadata": {},
   "outputs": [],
   "source": []
  }
 ],
 "metadata": {
  "kernelspec": {
   "display_name": ".venv (3.13.6)",
   "language": "python",
   "name": "python3"
  },
  "language_info": {
   "codemirror_mode": {
    "name": "ipython",
    "version": 3
   },
   "file_extension": ".py",
   "mimetype": "text/x-python",
   "name": "python",
   "nbconvert_exporter": "python",
   "pygments_lexer": "ipython3",
   "version": "3.13.6"
  }
 },
 "nbformat": 4,
 "nbformat_minor": 5
}
