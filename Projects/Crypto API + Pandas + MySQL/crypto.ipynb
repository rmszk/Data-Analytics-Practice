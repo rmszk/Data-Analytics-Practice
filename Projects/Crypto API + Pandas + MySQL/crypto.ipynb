{
 "cells": [
  {
   "cell_type": "code",
   "execution_count": 2,
   "id": "fe941adc",
   "metadata": {},
   "outputs": [
    {
     "name": "stdout",
     "output_type": "stream",
     "text": [
      "             id symbol  current_price     market_cap  total_volume  \\\n",
      "0       bitcoin    btc  109331.000000  2178902101625   39538327343   \n",
      "1      ethereum    eth    4001.440000   483180365770   30800097079   \n",
      "2        tether   usdt       1.000000   174273523633   88843636948   \n",
      "3        ripple    xrp       2.780000   166202170464    5337433798   \n",
      "4   binancecoin    bnb     970.220000   135127215996    2073550680   \n",
      "5        solana    sol     201.630000   109585543538    8124612157   \n",
      "6      usd-coin   usdc       0.999707    73726390486    9372025618   \n",
      "7      dogecoin   doge       0.230031    34756546352    2203192705   \n",
      "8  staked-ether  steth    4000.250000    34755193126      59166194   \n",
      "9          tron    trx       0.336559    31869036900     586476279   \n",
      "\n",
      "   price_change_percentage_24h  \n",
      "0                      0.16622  \n",
      "1                      2.57806  \n",
      "2                     -0.00887  \n",
      "3                      1.86534  \n",
      "4                      3.46532  \n",
      "5                      4.32423  \n",
      "6                      0.00958  \n",
      "7                      2.37471  \n",
      "8                      2.68655  \n",
      "9                      0.56306  \n"
     ]
    }
   ],
   "source": [
    "import requests\n",
    "import pandas as pd\n",
    "\n",
    "# Step 1: API endpoint\n",
    "url = \"https://api.coingecko.com/api/v3/coins/markets\"\n",
    "\n",
    "# Step 2: Parameters (USD me top 10 coins)\n",
    "params = {\n",
    "    \"vs_currency\": \"usd\",\n",
    "    \"order\": \"market_cap_desc\",\n",
    "    \"per_page\": 10,\n",
    "    \"page\": 1,\n",
    "    \"sparkline\": False\n",
    "}\n",
    "\n",
    "# Step 3: API se request bhejna\n",
    "response = requests.get(url, params=params)\n",
    "\n",
    "# Step 4: JSON response ko Pandas DataFrame me convert karna\n",
    "data = response.json()\n",
    "df = pd.DataFrame(data)\n",
    "\n",
    "# Step 5: Sirf important columns select karna\n",
    "df = df[[\"id\", \"symbol\", \"current_price\", \"market_cap\", \"total_volume\", \"price_change_percentage_24h\"]]\n",
    "\n",
    "print(df)\n"
   ]
  }
 ],
 "metadata": {
  "kernelspec": {
   "display_name": ".venv (3.13.6)",
   "language": "python",
   "name": "python3"
  },
  "language_info": {
   "codemirror_mode": {
    "name": "ipython",
    "version": 3
   },
   "file_extension": ".py",
   "mimetype": "text/x-python",
   "name": "python",
   "nbconvert_exporter": "python",
   "pygments_lexer": "ipython3",
   "version": "3.13.6"
  }
 },
 "nbformat": 4,
 "nbformat_minor": 5
}
