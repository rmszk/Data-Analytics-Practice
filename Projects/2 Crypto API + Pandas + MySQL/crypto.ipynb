{
 "cells": [
  {
   "cell_type": "code",
   "execution_count": 4,
   "id": "fe941adc",
   "metadata": {},
   "outputs": [
    {
     "name": "stdout",
     "output_type": "stream",
     "text": [
      "             id symbol  current_price     market_cap  total_volume  \\\n",
      "0       bitcoin    btc  113921.000000  2269142879787   56243318977   \n",
      "1      ethereum    eth    4162.510000   502273435150   33597066611   \n",
      "2        tether   usdt       1.000000   174451445186  107149225710   \n",
      "3        ripple    xrp       2.890000   172951798140    4643757437   \n",
      "4   binancecoin    bnb    1007.310000   140501680607    1938253160   \n",
      "5        solana    sol     210.460000   114567013832    6745066942   \n",
      "6      usd-coin   usdc       0.999706    73430886695    8493574436   \n",
      "7  staked-ether  steth    4162.880000    35540211527      29895954   \n",
      "8      dogecoin   doge       0.233971    35399211026    2213967983   \n",
      "9          tron    trx       0.336089    31813468510     508063163   \n",
      "\n",
      "   price_change_percentage_24h  \n",
      "0                      3.40796  \n",
      "1                      3.26445  \n",
      "2                      0.02250  \n",
      "3                      2.79188  \n",
      "4                      3.03829  \n",
      "5                      3.23385  \n",
      "6                     -0.00064  \n",
      "7                      3.19363  \n",
      "8                      1.64846  \n",
      "9                      0.07758  \n"
     ]
    }
   ],
   "source": [
    "import requests\n",
    "import pandas as pd\n",
    "\n",
    "# Step 1: API endpoint\n",
    "url = \"https://api.coingecko.com/api/v3/coins/markets\"\n",
    "\n",
    "# Step 2: Parameters (USD me top 10 coins)\n",
    "params = {\n",
    "    \"vs_currency\": \"usd\",\n",
    "    \"order\": \"market_cap_desc\",\n",
    "    \"per_page\": 10,\n",
    "    \"page\": 1,\n",
    "    \"sparkline\": False\n",
    "}\n",
    "\n",
    "# Step 3: API se request bhejna\n",
    "response = requests.get(url, params=params)\n",
    "\n",
    "# Step 4: JSON response ko Pandas DataFrame me convert karna\n",
    "data = response.json()\n",
    "df = pd.DataFrame(data)\n",
    "\n",
    "# Step 5: Sirf important columns select karna\n",
    "df = df[[\"id\", \"symbol\", \"current_price\", \"market_cap\", \"total_volume\", \"price_change_percentage_24h\"]]\n",
    "\n",
    "print(df)\n"
   ]
  },
  {
   "cell_type": "markdown",
   "id": "be0031b0",
   "metadata": {},
   "source": [
    "# 🔹 Step 1: Basic Analysis (Pandas me)\n",
    "\n",
    "Ye aapko data ko explore karna sikhaega:\n",
    "\n",
    "1. Top 5 coins by Market Cap\n",
    "\n",
    "Market cap sabse zyada kis coin ka hai.\n",
    "\n",
    "2. Top 5 coins by 24h Percentage Growth\n",
    "\n",
    "Kaunse coins ne sabse zyada growth ki ek din me.\n",
    "\n",
    "3. Top 5 coins by Trading Volume\n",
    "\n",
    "Sabse zyada trade hone wale coins"
   ]
  },
  {
   "cell_type": "code",
   "execution_count": null,
   "id": "205de2e3",
   "metadata": {},
   "outputs": [
    {
     "name": "stdout",
     "output_type": "stream",
     "text": [
      "0    2269142879787\n",
      "1     502273435150\n",
      "2     174451445186\n",
      "3     172951798140\n",
      "4     140501680607\n",
      "Name: market_cap, dtype: int64\n"
     ]
    }
   ],
   "source": [
    "#1. Top 5 coins by Market Cap\n",
    "martek_cap_value = df[\"market_cap\"].sort_values(ascending=False).head(5)\n",
    "print(martek_cap_value)\n"
   ]
  },
  {
   "cell_type": "code",
   "execution_count": 22,
   "id": "5eade283",
   "metadata": {},
   "outputs": [
    {
     "name": "stdout",
     "output_type": "stream",
     "text": [
      "Index(['id', 'symbol', 'current_price', 'market_cap', 'total_volume',\n",
      "       'price_change_percentage_24h'],\n",
      "      dtype='object')\n",
      "             id     market_cap  price_change_percentage_24h\n",
      "0       bitcoin  2269142879787                      3.40796\n",
      "1      ethereum   502273435150                      3.26445\n",
      "5        solana   114567013832                      3.23385\n",
      "7  staked-ether    35540211527                      3.19363\n",
      "4   binancecoin   140501680607                      3.03829\n"
     ]
    }
   ],
   "source": [
    "print(df.columns)\n",
    "#2. Top 5 coins by 24h Percentage Growth\n",
    "coin_Per_growth = df.nlargest(5,\"price_change_percentage_24h\")[[\"id\",\"market_cap\",\"price_change_percentage_24h\"]]\n",
    "print(coin_Per_growth)"
   ]
  },
  {
   "cell_type": "code",
   "execution_count": 21,
   "id": "2a557c88",
   "metadata": {},
   "outputs": [
    {
     "name": "stdout",
     "output_type": "stream",
     "text": [
      "         id  total_volume\n",
      "2    tether  107149225710\n",
      "0   bitcoin   56243318977\n",
      "1  ethereum   33597066611\n",
      "6  usd-coin    8493574436\n",
      "5    solana    6745066942\n"
     ]
    }
   ],
   "source": [
    "#3. Top 5 coins by Trading Volume\n",
    "trading_coin = df.nlargest(5,\"total_volume\")[[\"id\",\"total_volume\"]]\n",
    "print(trading_coin)\n"
   ]
  },
  {
   "cell_type": "code",
   "execution_count": null,
   "id": "2521bb10",
   "metadata": {},
   "outputs": [],
   "source": []
  }
 ],
 "metadata": {
  "kernelspec": {
   "display_name": ".venv (3.13.6)",
   "language": "python",
   "name": "python3"
  },
  "language_info": {
   "codemirror_mode": {
    "name": "ipython",
    "version": 3
   },
   "file_extension": ".py",
   "mimetype": "text/x-python",
   "name": "python",
   "nbconvert_exporter": "python",
   "pygments_lexer": "ipython3",
   "version": "3.13.6"
  }
 },
 "nbformat": 4,
 "nbformat_minor": 5
}
