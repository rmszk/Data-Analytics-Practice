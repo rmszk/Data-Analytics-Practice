{
 "cells": [
  {
   "cell_type": "code",
   "execution_count": 24,
   "id": "9f572129",
   "metadata": {},
   "outputs": [
    {
     "name": "stderr",
     "output_type": "stream",
     "text": [
      "C:\\Users\\princ\\AppData\\Local\\Temp\\ipykernel_9360\\1151236902.py:14: UserWarning: pandas only supports SQLAlchemy connectable (engine/connection) or database string URI or sqlite3 DBAPI2 connection. Other DBAPI2 objects are not tested. Please consider using SQLAlchemy.\n",
      "  df = pd.read_sql(query, conn)\n"
     ]
    }
   ],
   "source": [
    "import mysql.connector\n",
    "import pandas as pd\n",
    "\n",
    "# Connection\n",
    "conn = mysql.connector.connect(\n",
    "    host=\"localhost\",\n",
    "    user=\"root\",\n",
    "    password=\"root\",\n",
    "    database=\"library_db\"\n",
    ")\n",
    "\n",
    "# Query\n",
    "query = \"SELECT * FROM books\"\n",
    "df = pd.read_sql(query, conn)\n"
   ]
  },
  {
   "cell_type": "markdown",
   "id": "1f8f73fa",
   "metadata": {},
   "source": [
    "# Dataset ko samajhna (Basic Info)\n",
    "## 📌 Goals:\n",
    "- Rows & columns count dekhna\n",
    "\n",
    "- Columns ke names & datatypes samajhna\n",
    "\n",
    "- Missing values check karna\n",
    "\n",
    "## 👉 Functions/Methods:\n",
    "\n",
    "- .shape → total rows/columns\n",
    "\n",
    "- .columns → column names\n",
    "\n",
    "- .info() → datatype aur memory\n",
    "\n",
    "- .isnull().sum() → missing values"
   ]
  },
  {
   "cell_type": "code",
   "execution_count": 40,
   "id": "39f1acd1",
   "metadata": {},
   "outputs": [
    {
     "name": "stdout",
     "output_type": "stream",
     "text": [
      "Total Row and Columns: (50, 10)\n",
      "\n",
      "Columns Name: Index(['Book_id', 'Title', 'Author', 'Genre', 'Issued_to', 'Issued_date',\n",
      "       'Return_date', 'created_at', 'duration', 'Months'],\n",
      "      dtype='object')\n",
      "<class 'pandas.core.frame.DataFrame'>\n",
      "RangeIndex: 50 entries, 0 to 49\n",
      "Data columns (total 10 columns):\n",
      " #   Column       Non-Null Count  Dtype          \n",
      "---  ------       --------------  -----          \n",
      " 0   Book_id      50 non-null     int64          \n",
      " 1   Title        50 non-null     object         \n",
      " 2   Author       50 non-null     object         \n",
      " 3   Genre        50 non-null     object         \n",
      " 4   Issued_to    50 non-null     object         \n",
      " 5   Issued_date  50 non-null     datetime64[ns] \n",
      " 6   Return_date  50 non-null     datetime64[ns] \n",
      " 7   created_at   50 non-null     datetime64[ns] \n",
      " 8   duration     50 non-null     timedelta64[ns]\n",
      " 9   Months       50 non-null     object         \n",
      "dtypes: datetime64[ns](3), int64(1), object(5), timedelta64[ns](1)\n",
      "memory usage: 4.0+ KB\n",
      "Datatype and Memory: None\n"
     ]
    }
   ],
   "source": [
    "print(\"Total Row and Columns:\",df.shape)\n",
    "print(\"\\nColumns Name:\",df.columns)\n",
    "#print(\"\\n Missing Values:\",df.isnull)\n",
    "print(\"Datatype and Memory:\",df.info())"
   ]
  },
  {
   "cell_type": "markdown",
   "id": "2cd12191",
   "metadata": {},
   "source": [
    "# Simple Exploration\n",
    "\n",
    "## 📌 Goals:\n",
    "\n",
    "- First few records dekhna\n",
    "\n",
    "- Last few records dekhna\n",
    "\n",
    "- Random rows check karna\n",
    "\n",
    "## 👉 Functions/Methods:\n",
    "\n",
    "- .head() → pehle 5 rows\n",
    "\n",
    "- .tail() → last 5 rows\n",
    "\n",
    "- .sample() → random row\n",
    "\n"
   ]
  },
  {
   "cell_type": "code",
   "execution_count": 39,
   "id": "ea769942",
   "metadata": {},
   "outputs": [
    {
     "name": "stdout",
     "output_type": "stream",
     "text": [
      "   Book_id              Title            Author        Genre Issued_to  \\\n",
      "0        1      The Alchemist      Paulo Coelho      Fiction       Ali   \n",
      "1        2      Atomic Habits       James Clear    Self-help      Sara   \n",
      "2        3       Harry Potter      J.K. Rowling      Fantasy     Bilal   \n",
      "3        4  Rich Dad Poor Dad   Robert Kiyosaki      Finance    Ayesha   \n",
      "4        5         Clean Code  Robert C. Martin  Programming     Hamza   \n",
      "\n",
      "  Issued_date Return_date          created_at duration    Months  \n",
      "0  2024-01-05  2024-01-15 2025-09-22 19:11:49  10 days   January  \n",
      "1  2024-01-07  2024-01-20 2025-09-22 19:11:49  13 days   January  \n",
      "2  2024-01-10  2024-01-25 2025-09-22 19:11:49  15 days   January  \n",
      "3  2024-02-01  2024-02-12 2025-09-22 19:11:49  11 days  February  \n",
      "4  2024-02-05  2024-02-18 2025-09-22 19:11:49  13 days  February  \n",
      "    Book_id           Title        Author      Genre Issued_to Issued_date  \\\n",
      "45       46    Harry Potter  J.K. Rowling    Fantasy       Ali  2024-06-07   \n",
      "46       47   Atomic Habits   James Clear  Self-help      Sara  2024-06-10   \n",
      "47       48   The Alchemist  Paulo Coelho    Fiction     Bilal  2024-06-12   \n",
      "48       49  Start With Why   Simon Sinek  Self-help     Hamza  2024-06-15   \n",
      "49       50    Harry Potter  J.K. Rowling    Fantasy       Ali  2024-06-18   \n",
      "\n",
      "   Return_date          created_at duration Months  \n",
      "45  2024-06-22 2025-09-27 15:34:28  15 days   June  \n",
      "46  2024-06-25 2025-09-27 15:34:28  15 days   June  \n",
      "47  2024-06-27 2025-09-27 15:34:28  15 days   June  \n",
      "48  2024-06-30 2025-09-27 15:34:28  15 days   June  \n",
      "49  2024-07-02 2025-09-27 15:34:28  14 days   June  \n",
      "   Book_id      Title       Author         Genre Issued_to Issued_date  \\\n",
      "5        6  Deep Work  Cal Newport  Productivity     Farah  2024-02-08   \n",
      "\n",
      "  Return_date          created_at duration    Months  \n",
      "5  2024-02-17 2025-09-22 19:11:49   9 days  February  \n"
     ]
    }
   ],
   "source": [
    "print(df.head())\n",
    "print(df.tail())\n",
    "print(df.sample())"
   ]
  },
  {
   "cell_type": "markdown",
   "id": "58062ad3",
   "metadata": {},
   "source": [
    "# 🔹 Day 3 – Genre & Author Popularity\n",
    "\n",
    "## 📌 Goals:\n",
    "\n",
    "- Har genre ki count nikalo (kitni books issue hui)\n",
    "\n",
    "- Top authors find karo\n",
    "\n",
    "## 👉 Functions/Methods:\n",
    "\n",
    "- .value_counts() → genre/author frequency\n",
    "\n",
    "- .groupby() + .count() → genre-wise count\n",
    "\n"
   ]
  },
  {
   "cell_type": "code",
   "execution_count": 26,
   "id": "a5a1f137",
   "metadata": {},
   "outputs": [
    {
     "name": "stdout",
     "output_type": "stream",
     "text": [
      "Genre\n",
      "Biography        3\n",
      "Business         1\n",
      "Fantasy          9\n",
      "Fiction          9\n",
      "Finance          3\n",
      "History          4\n",
      "Philosophy       2\n",
      "Productivity     2\n",
      "Programming      7\n",
      "Self-help       10\n",
      "Name: Author, dtype: int64\n",
      "Author    J.K. Rowling\n",
      "Genre     J.K. Rowling\n",
      "dtype: object\n"
     ]
    }
   ],
   "source": [
    "genre = df.groupby(\"Genre\")[\"Author\"].count()\n",
    "print(genre)\n",
    "#print(df)\n",
    "top = df.groupby(\"Author\")[[\"Author\",\"Genre\"]].count().idxmax(axis=0)\n",
    "print(top)"
   ]
  },
  {
   "cell_type": "markdown",
   "id": "602f0522",
   "metadata": {},
   "source": [
    "# 🔹 Day 4 – Borrower Analysis\n",
    "\n",
    "## 📌 Goals:\n",
    "\n",
    "- Har user ne kitni books li\n",
    "\n",
    "- Top 3 borrowers find karo\n",
    "\n",
    "## 👉 Functions/Methods:\n",
    "\n",
    "- .groupby(\"issued_to\") + .count()\n",
    "\n",
    "- .sort_values() → sabse zyada lene wale top borrowers"
   ]
  },
  {
   "cell_type": "code",
   "execution_count": 30,
   "id": "6de9d93a",
   "metadata": {},
   "outputs": [
    {
     "name": "stdout",
     "output_type": "stream",
     "text": [
      "Issued_to\n",
      "Ali       9\n",
      "Sara      7\n",
      "Bilal     6\n",
      "Hamza     5\n",
      "Ahmed     4\n",
      "Farah     4\n",
      "Usman     4\n",
      "Maria     4\n",
      "Zainab    4\n",
      "Ayesha    3\n",
      "dtype: int64\n",
      "Issued_to\n",
      "Ali      9\n",
      "Sara     7\n",
      "Bilal    6\n",
      "dtype: int64\n"
     ]
    }
   ],
   "source": [
    "user_borr = df.groupby(\"Issued_to\")[[\"Genre\",\"Author\"]].size().sort_values(ascending=False)\n",
    "print(user_borr)\n",
    "\n",
    "top_3_user = user_borr.sort_values(ascending=False).head(3)\n",
    "print(top_3_user)\n",
    "#print(df)\n"
   ]
  },
  {
   "cell_type": "markdown",
   "id": "2aef4dd6",
   "metadata": {},
   "source": [
    "# 🔹 Day 5 – Duration Analysis\n",
    "\n",
    "## 📌 Goals:\n",
    "\n",
    "- Har book ke liye return_date – issue_date nikalna\n",
    "\n",
    "- Average duration dekhna\n",
    "\n",
    "- Longest duration wali books identify karna\n",
    "\n",
    "## 👉 Functions/Methods:\n",
    "\n",
    "- pd.to_datetime() → dates ko datetime me convert karna\n",
    "\n",
    "- Subtraction → return_date - issue_date se duration\n",
    "\n",
    "- .mean() → average duration\n",
    "\n",
    "- .max() / .min() → longest/shortest duration"
   ]
  },
  {
   "cell_type": "code",
   "execution_count": 38,
   "id": "d1c905e0",
   "metadata": {},
   "outputs": [
    {
     "name": "stdout",
     "output_type": "stream",
     "text": [
      "Index(['Book_id', 'Title', 'Author', 'Genre', 'Issued_to', 'Issued_date',\n",
      "       'Return_date', 'created_at', 'duration', 'Months'],\n",
      "      dtype='object')\n",
      "Max Duration Time: 16 days 00:00:00\n",
      "Average Duration Time: 13 days 16:48:00\n",
      "Min Duration Time: 9 days 00:00:00\n"
     ]
    }
   ],
   "source": [
    "print(df.columns)\n",
    "df[\"Issued_date\"] = pd.to_datetime(df[\"Issued_date\"])\n",
    "df[\"Return_date\"] = pd.to_datetime(df[\"Return_date\"])\n",
    "#df[\"duration\"] = df[\"Return_date\"] - df[\"Issued_date\"]\n",
    "max_duration = df[\"duration\"].max()\n",
    "print(\"Max Duration Time:\",max_duration)\n",
    "\n",
    "avg = df[\"duration\"].mean()\n",
    "print(\"Average Duration Time:\",avg)\n",
    "\n",
    "min_duration = df[\"duration\"].min()\n",
    "print(\"Min Duration Time:\",min_duration)"
   ]
  },
  {
   "cell_type": "markdown",
   "id": "9c24cdfa",
   "metadata": {},
   "source": [
    "# 🔹 Day 6 – Time Trend Analysis\n",
    "\n",
    "## 📌 Goals:\n",
    "\n",
    "- Month-wise books issue count\n",
    "\n",
    "- Sabse zyada kis month me books issue hoti hain\n",
    "\n",
    "## 👉 Functions/Methods:\n",
    "\n",
    "- .dt.month / .dt.year → date se month/year extract karna\n",
    "\n",
    "- .groupby(\"month\") + .count()\n",
    "\n",
    "- .idxmax() → sabse zyada count wali month"
   ]
  },
  {
   "cell_type": "code",
   "execution_count": 35,
   "id": "5f90098f",
   "metadata": {},
   "outputs": [
    {
     "name": "stdout",
     "output_type": "stream",
     "text": [
      "Index(['Book_id', 'Title', 'Author', 'Genre', 'Issued_to', 'Issued_date',\n",
      "       'Return_date', 'created_at', 'duration', 'Months'],\n",
      "      dtype='object')\n",
      "\n",
      "Har Months Kitni Books Issued huy: Months\n",
      "May         15\n",
      "April       10\n",
      "March       10\n",
      "June         8\n",
      "February     4\n",
      "January      3\n",
      "Name: Title, dtype: int64\n",
      "\n",
      "Sab Sy Zada Issued Hony wala Month: May\n"
     ]
    }
   ],
   "source": [
    "print(df.columns)\n",
    "#df[\"Issued_date\"].dt.month\n",
    "df[\"Months\"] = df[\"Issued_date\"].dt.month_name()\n",
    "#df[\"Months\"] = df[\"Issued_date\"].dt.to_period(\"M\")\n",
    "books_count = df.groupby(\"Months\")[\"Title\"].count().sort_values(ascending=False)\n",
    "max_month = books_count.idxmax()\n",
    "print(\"\\nHar Months Kitni Books Issued huy:\",books_count)\n",
    "print(\"\\nSab Sy Zada Issued Hony wala Month:\",max_month)"
   ]
  },
  {
   "cell_type": "markdown",
   "id": "251a2d54",
   "metadata": {},
   "source": [
    "# 🔹 Day 7 – Top N Insights\n",
    "\n",
    "## 📌 Goals:\n",
    "\n",
    "- Top 5 most issued books\n",
    "\n",
    "- Top 5 authors\n",
    "\n",
    "- Top 5 borrowers\n",
    "\n",
    "## 👉 Functions/Methods:\n",
    "\n",
    "- .value_counts().head(5) → top 5 items\n",
    "\n",
    "- .nlargest(5, \"column\") → top 5 values\n",
    "\n",
    "- ✅ Recap – Pandas ke Must-Know Functions\n",
    "\n",
    "- shape, head(), tail(), sample() → data overview\n",
    "\n",
    "- info(), describe() → structure + summary\n",
    "\n",
    "- isnull(), value_counts() → data quality + frequency\n",
    "\n",
    "- groupby(), sort_values() → aggregation & sorting\n",
    "\n",
    "- mean(), max(), min() → statistics\n",
    "\n",
    "- to_datetime(), dt.month, dt.year → date handling"
   ]
  },
  {
   "cell_type": "code",
   "execution_count": null,
   "id": "06cc13c2",
   "metadata": {},
   "outputs": [
    {
     "name": "stdout",
     "output_type": "stream",
     "text": [
      "Top 5 Most Issued Books:  Title\n",
      "Harry Potter     7\n",
      "The Alchemist    5\n",
      "Atomic Habits    4\n",
      "Deep Work        2\n",
      "Sapiens          2\n",
      "dtype: int64\n",
      "\n",
      "Top 5 Books Author:  Author\n",
      "J.K. Rowling         7\n",
      "Paulo Coelho         5\n",
      "James Clear          4\n",
      "Yuval Noah Harari    3\n",
      "Cal Newport          2\n",
      "dtype: int64\n",
      "\n",
      "Top 5 borrowers:  Issued_to\n",
      "Ali      9\n",
      "Sara     7\n",
      "Bilal    6\n",
      "Hamza    5\n",
      "Ahmed    4\n",
      "dtype: int64\n"
     ]
    }
   ],
   "source": [
    "#Q1\n",
    "most_issued_books = df.groupby(\"Title\").sizex()\n",
    "most_issued_books = most_issued_books.sort_values(ascending=False)\n",
    "print(\"Top 5 Most Issued Books: \",most_issued_books.head(5))\n",
    "#Q2\n",
    "top_author = df.groupby(\"Author\").size()\n",
    "top_author = top_author.sort_values(ascending=False)\n",
    "print(\"\\nTop 5 Books Author: \",top_author.head(5))\n",
    "#Q3\n",
    "top_5_borro = df.groupby(\"Issued_to\").size()\n",
    "top_5_borro = top_5_borro.sort_values(ascending=False)\n",
    "print(\"\\nTop 5 borrowers: \", top_5_borro.head(5))\n"
   ]
  },
  {
   "cell_type": "code",
   "execution_count": null,
   "id": "00462559",
   "metadata": {},
   "outputs": [],
   "source": [
    "# Excel me likhne ke liye openpxl use hota hai\n",
    "df.to_excel(\"library_analysis.xlsx\", index=False)\n",
    "\n",
    "with pd.ExcelWriter(\"library_analysis.xlsx\", engine=\"openpyxl\") as writer:\n",
    "    df.to_excel(writer, sheet_name=\"Full Data\", index=False)\n",
    "    \n",
    "    # Analysis sheets\n",
    "    top_5_borro.to_excel(writer, sheet_name=\"Top Borrowers\")\n",
    "    top_author.head(5).to_excel(writer, sheet_name=\"Top Authors\")\n",
    "    most_issued_books.head(5).to_excel(writer, sheet_name=\"Top Books\")\n",
    "    books_count.to_excel(writer, sheet_name=\"Month Trends\")\n"
   ]
  }
 ],
 "metadata": {
  "kernelspec": {
   "display_name": ".venv (3.13.6)",
   "language": "python",
   "name": "python3"
  },
  "language_info": {
   "codemirror_mode": {
    "name": "ipython",
    "version": 3
   },
   "file_extension": ".py",
   "mimetype": "text/x-python",
   "name": "python",
   "nbconvert_exporter": "python",
   "pygments_lexer": "ipython3",
   "version": "3.13.6"
  }
 },
 "nbformat": 4,
 "nbformat_minor": 5
}
