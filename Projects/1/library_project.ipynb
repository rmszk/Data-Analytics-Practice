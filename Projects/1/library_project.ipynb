{
 "cells": [
  {
   "cell_type": "code",
   "execution_count": 2,
   "id": "9f572129",
   "metadata": {},
   "outputs": [
    {
     "name": "stderr",
     "output_type": "stream",
     "text": [
      "C:\\Users\\princ\\AppData\\Local\\Temp\\ipykernel_14840\\1151236902.py:14: UserWarning: pandas only supports SQLAlchemy connectable (engine/connection) or database string URI or sqlite3 DBAPI2 connection. Other DBAPI2 objects are not tested. Please consider using SQLAlchemy.\n",
      "  df = pd.read_sql(query, conn)\n"
     ]
    }
   ],
   "source": [
    "import mysql.connector\n",
    "import pandas as pd\n",
    "\n",
    "# Connection\n",
    "conn = mysql.connector.connect(\n",
    "    host=\"localhost\",\n",
    "    user=\"root\",\n",
    "    password=\"root\",\n",
    "    database=\"library_db\"\n",
    ")\n",
    "\n",
    "# Query\n",
    "query = \"SELECT * FROM books\"\n",
    "df = pd.read_sql(query, conn)\n"
   ]
  },
  {
   "cell_type": "markdown",
   "id": "1f8f73fa",
   "metadata": {},
   "source": [
    "# Dataset ko samajhna (Basic Info)\n",
    "## 📌 Goals:\n",
    "- Rows & columns count dekhna\n",
    "\n",
    "- Columns ke names & datatypes samajhna\n",
    "\n",
    "- Missing values check karna\n",
    "\n",
    "## 👉 Functions/Methods:\n",
    "\n",
    "- .shape → total rows/columns\n",
    "\n",
    "- .columns → column names\n",
    "\n",
    "- .info() → datatype aur memory\n",
    "\n",
    "- .isnull().sum() → missing values"
   ]
  },
  {
   "cell_type": "code",
   "execution_count": 30,
   "id": "39f1acd1",
   "metadata": {},
   "outputs": [
    {
     "name": "stdout",
     "output_type": "stream",
     "text": [
      "Total Row and Columns: (30, 8)\n",
      "\n",
      "Columns Name: Index(['Book_id', 'Title', 'Author', 'Genre', 'Issued_to', 'Issued_date',\n",
      "       'Return_date', 'created_at'],\n",
      "      dtype='object')\n",
      "<class 'pandas.core.frame.DataFrame'>\n",
      "RangeIndex: 30 entries, 0 to 29\n",
      "Data columns (total 8 columns):\n",
      " #   Column       Non-Null Count  Dtype         \n",
      "---  ------       --------------  -----         \n",
      " 0   Book_id      30 non-null     int64         \n",
      " 1   Title        30 non-null     object        \n",
      " 2   Author       30 non-null     object        \n",
      " 3   Genre        30 non-null     object        \n",
      " 4   Issued_to    30 non-null     object        \n",
      " 5   Issued_date  30 non-null     object        \n",
      " 6   Return_date  30 non-null     object        \n",
      " 7   created_at   30 non-null     datetime64[ns]\n",
      "dtypes: datetime64[ns](1), int64(1), object(6)\n",
      "memory usage: 2.0+ KB\n",
      "Datatype and Memory: None\n"
     ]
    }
   ],
   "source": [
    "print(\"Total Row and Columns:\",df.shape)\n",
    "print(\"\\nColumns Name:\",df.columns)\n",
    "#print(\"\\n Missing Values:\",df.isnull)\n",
    "print(\"Datatype and Memory:\",df.info())"
   ]
  },
  {
   "cell_type": "markdown",
   "id": "2cd12191",
   "metadata": {},
   "source": [
    "# Simple Exploration\n",
    "\n",
    "## 📌 Goals:\n",
    "\n",
    "- First few records dekhna\n",
    "\n",
    "- Last few records dekhna\n",
    "\n",
    "- Random rows check karna\n",
    "\n",
    "## 👉 Functions/Methods:\n",
    "\n",
    "- .head() → pehle 5 rows\n",
    "\n",
    "- .tail() → last 5 rows\n",
    "\n",
    "- .sample() → random row\n",
    "\n"
   ]
  },
  {
   "cell_type": "code",
   "execution_count": 31,
   "id": "ea769942",
   "metadata": {},
   "outputs": [
    {
     "name": "stdout",
     "output_type": "stream",
     "text": [
      "   Book_id              Title            Author        Genre Issued_to  \\\n",
      "0        1      The Alchemist      Paulo Coelho      Fiction       Ali   \n",
      "1        2      Atomic Habits       James Clear    Self-help      Sara   \n",
      "2        3       Harry Potter      J.K. Rowling      Fantasy     Bilal   \n",
      "3        4  Rich Dad Poor Dad   Robert Kiyosaki      Finance    Ayesha   \n",
      "4        5         Clean Code  Robert C. Martin  Programming     Hamza   \n",
      "\n",
      "  Issued_date Return_date          created_at  \n",
      "0  2024-01-05  2024-01-15 2025-09-22 19:11:49  \n",
      "1  2024-01-07  2024-01-20 2025-09-22 19:11:49  \n",
      "2  2024-01-10  2024-01-25 2025-09-22 19:11:49  \n",
      "3  2024-02-01  2024-02-12 2025-09-22 19:11:49  \n",
      "4  2024-02-05  2024-02-18 2025-09-22 19:11:49  \n",
      "    Book_id                      Title           Author        Genre  \\\n",
      "25       26           The Power of Now    Eckhart Tolle    Self-help   \n",
      "26       27              War and Peace      Leo Tolstoy      History   \n",
      "27       28                 Steve Jobs  Walter Isaacson    Biography   \n",
      "28       29  Data Science from Scratch        Joel Grus  Programming   \n",
      "29       30   Man’s Search for Meaning    Viktor Frankl   Philosophy   \n",
      "\n",
      "   Issued_to Issued_date Return_date          created_at  \n",
      "25     Farah  2024-04-25  2024-05-08 2025-09-22 19:11:49  \n",
      "26     Usman  2024-04-28  2024-05-12 2025-09-22 19:11:49  \n",
      "27    Zainab  2024-05-01  2024-05-15 2025-09-22 19:11:49  \n",
      "28     Ahmed  2024-05-03  2024-05-16 2025-09-22 19:11:49  \n",
      "29     Maria  2024-05-05  2024-05-20 2025-09-22 19:11:49  \n",
      "    Book_id          Title       Author    Genre Issued_to Issued_date  \\\n",
      "26       27  War and Peace  Leo Tolstoy  History     Usman  2024-04-28   \n",
      "\n",
      "   Return_date          created_at  \n",
      "26  2024-05-12 2025-09-22 19:11:49  \n"
     ]
    }
   ],
   "source": [
    "print(df.head())\n",
    "print(df.tail())\n",
    "print(df.sample())"
   ]
  },
  {
   "cell_type": "markdown",
   "id": "58062ad3",
   "metadata": {},
   "source": [
    "# 🔹 Day 3 – Genre & Author Popularity\n",
    "\n",
    "## 📌 Goals:\n",
    "\n",
    "- Har genre ki count nikalo (kitni books issue hui)\n",
    "\n",
    "- Top authors find karo\n",
    "\n",
    "## 👉 Functions/Methods:\n",
    "\n",
    "- .value_counts() → genre/author frequency\n",
    "\n",
    "- .groupby() + .count() → genre-wise count\n",
    "\n"
   ]
  },
  {
   "cell_type": "code",
   "execution_count": 23,
   "id": "a5a1f137",
   "metadata": {},
   "outputs": [
    {
     "name": "stdout",
     "output_type": "stream",
     "text": [
      "Genre\n",
      "Biography       3\n",
      "Business        1\n",
      "Fantasy         3\n",
      "Fiction         5\n",
      "Finance         2\n",
      "History         3\n",
      "Philosophy      2\n",
      "Productivity    1\n",
      "Programming     5\n",
      "Self-help       5\n",
      "Name: Author, dtype: int64\n",
      "Author    Yuval Noah Harari\n",
      "Genre     Yuval Noah Harari\n",
      "dtype: object\n"
     ]
    }
   ],
   "source": [
    "genre = df.groupby(\"Genre\")[\"Author\"].count()\n",
    "print(genre)\n",
    "#print(df)\n",
    "top = df.groupby(\"Author\")[[\"Author\",\"Genre\"]].count().idxmax(axis=0)\n",
    "print(top)"
   ]
  },
  {
   "cell_type": "markdown",
   "id": "602f0522",
   "metadata": {},
   "source": [
    "# 🔹 Day 4 – Borrower Analysis\n",
    "\n",
    "## 📌 Goals:\n",
    "\n",
    "- Har user ne kitni books li\n",
    "\n",
    "- Top 3 borrowers find karo\n",
    "\n",
    "## 👉 Functions/Methods:\n",
    "\n",
    "- .groupby(\"issued_to\") + .count()\n",
    "\n",
    "- .sort_values() → sabse zyada lene wale top borrowers"
   ]
  },
  {
   "cell_type": "code",
   "execution_count": 34,
   "id": "6de9d93a",
   "metadata": {},
   "outputs": [
    {
     "name": "stdout",
     "output_type": "stream",
     "text": [
      "Issued_to\n",
      "Ahmed     3\n",
      "Ali       3\n",
      "Ayesha    3\n",
      "Bilal     3\n",
      "Farah     3\n",
      "Hamza     3\n",
      "Maria     3\n",
      "Sara      3\n",
      "Usman     3\n",
      "Zainab    3\n",
      "dtype: int64\n",
      "Issued_to\n",
      "Ahmed     3\n",
      "Ali       3\n",
      "Ayesha    3\n",
      "dtype: int64\n"
     ]
    }
   ],
   "source": [
    "user_borr = df.groupby(\"Issued_to\")[[\"Genre\",\"Author\"]].size()\n",
    "print(user_borr)\n",
    "top_3_user = user_borr.head(3)\n",
    "print(top_3_user)\n",
    "#print(df)\n"
   ]
  },
  {
   "cell_type": "markdown",
   "id": "2aef4dd6",
   "metadata": {},
   "source": [
    "# 🔹 Day 5 – Duration Analysis\n",
    "\n",
    "## 📌 Goals:\n",
    "\n",
    "- Har book ke liye return_date – issue_date nikalna\n",
    "\n",
    "- Average duration dekhna\n",
    "\n",
    "- Longest duration wali books identify karna\n",
    "\n",
    "## 👉 Functions/Methods:\n",
    "\n",
    "- pd.to_datetime() → dates ko datetime me convert karna\n",
    "\n",
    "- Subtraction → return_date - issue_date se duration\n",
    "\n",
    "- .mean() → average duration\n",
    "\n",
    "- .max() / .min() → longest/shortest duration"
   ]
  },
  {
   "cell_type": "code",
   "execution_count": 20,
   "id": "d1c905e0",
   "metadata": {},
   "outputs": [
    {
     "name": "stdout",
     "output_type": "stream",
     "text": [
      "Index(['Book_id', 'Title', 'Author', 'Genre', 'Issued_to', 'Issued_date',\n",
      "       'Return_date', 'created_at', 'duration'],\n",
      "      dtype='object')\n",
      "Max Duration Time: 15 days 00:00:00\n",
      "Average Duration Time: 12 days 19:12:00\n",
      "Min Duration Time: 9 days 00:00:00\n"
     ]
    }
   ],
   "source": [
    "print(df.columns)\n",
    "df[\"Issued_date\"] = pd.to_datetime(df[\"Issued_date\"])\n",
    "df[\"Return_date\"] = pd.to_datetime(df[\"Return_date\"])\n",
    "#df[\"duration\"] = df[\"Return_date\"] - df[\"Issued_date\"]\n",
    "max_duration = df[\"duration\"].max()\n",
    "print(\"Max Duration Time:\",max_duration)\n",
    "\n",
    "avg = df[\"duration\"].mean()\n",
    "print(\"Average Duration Time:\",avg)\n",
    "\n",
    "min_duration = df[\"duration\"].min()\n",
    "print(\"Min Duration Time:\",min_duration)"
   ]
  },
  {
   "cell_type": "markdown",
   "id": "9c24cdfa",
   "metadata": {},
   "source": [
    "# 🔹 Day 6 – Time Trend Analysis\n",
    "\n",
    "## 📌 Goals:\n",
    "\n",
    "- Month-wise books issue count\n",
    "\n",
    "- Sabse zyada kis month me books issue hoti hain\n",
    "\n",
    "## 👉 Functions/Methods:\n",
    "\n",
    "- .dt.month / .dt.year → date se month/year extract karna\n",
    "\n",
    "- .groupby(\"month\") + .count()\n",
    "\n",
    "- .idxmax() → sabse zyada count wali month"
   ]
  },
  {
   "cell_type": "markdown",
   "id": "251a2d54",
   "metadata": {},
   "source": [
    "# 🔹 Day 7 – Top N Insights\n",
    "\n",
    "## 📌 Goals:\n",
    "\n",
    "- Top 5 most issued books\n",
    "\n",
    "- Top 5 authors\n",
    "\n",
    "- Top 5 borrowers\n",
    "\n",
    "## 👉 Functions/Methods:\n",
    "\n",
    "- .value_counts().head(5) → top 5 items\n",
    "\n",
    "- .nlargest(5, \"column\") → top 5 values\n",
    "\n",
    "- ✅ Recap – Pandas ke Must-Know Functions\n",
    "\n",
    "- shape, head(), tail(), sample() → data overview\n",
    "\n",
    "- info(), describe() → structure + summary\n",
    "\n",
    "- isnull(), value_counts() → data quality + frequency\n",
    "\n",
    "- groupby(), sort_values() → aggregation & sorting\n",
    "\n",
    "- mean(), max(), min() → statistics\n",
    "\n",
    "- to_datetime(), dt.month, dt.year → date handling"
   ]
  },
  {
   "cell_type": "markdown",
   "id": "ca57811a",
   "metadata": {},
   "source": []
  }
 ],
 "metadata": {
  "kernelspec": {
   "display_name": ".venv (3.13.6)",
   "language": "python",
   "name": "python3"
  },
  "language_info": {
   "codemirror_mode": {
    "name": "ipython",
    "version": 3
   },
   "file_extension": ".py",
   "mimetype": "text/x-python",
   "name": "python",
   "nbconvert_exporter": "python",
   "pygments_lexer": "ipython3",
   "version": "3.13.6"
  }
 },
 "nbformat": 4,
 "nbformat_minor": 5
}
