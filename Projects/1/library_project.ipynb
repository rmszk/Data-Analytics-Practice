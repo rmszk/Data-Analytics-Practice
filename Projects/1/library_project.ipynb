{
 "cells": [
  {
   "cell_type": "code",
   "execution_count": null,
   "id": "9f572129",
   "metadata": {},
   "outputs": [],
   "source": [
    "import mysql.connector\n",
    "import pandas as pd\n",
    "\n",
    "# Connection\n",
    "conn = mysql.connector.connect(\n",
    "    host=\"localhost\",\n",
    "    user=\"root\",\n",
    "    password=\"root\",\n",
    "    database=\"library_db\"\n",
    ")\n",
    "\n",
    "# Query\n",
    "query = \"SELECT * FROM books\"\n",
    "df = pd.read_sql(query, conn)\n"
   ]
  },
  {
   "cell_type": "markdown",
   "id": "1f8f73fa",
   "metadata": {},
   "source": [
    "# Dataset ko samajhna (Basic Info)\n",
    "## 📌 Goals:\n",
    "- Rows & columns count dekhna\n",
    "\n",
    "- Columns ke names & datatypes samajhna\n",
    "\n",
    "- Missing values check karna\n",
    "\n",
    "## 👉 Functions/Methods:\n",
    "\n",
    "- .shape → total rows/columns\n",
    "\n",
    "- .columns → column names\n",
    "\n",
    "- .info() → datatype aur memory\n",
    "\n",
    "- .isnull().sum() → missing values"
   ]
  },
  {
   "cell_type": "code",
   "execution_count": 30,
   "id": "39f1acd1",
   "metadata": {},
   "outputs": [
    {
     "name": "stdout",
     "output_type": "stream",
     "text": [
      "Total Row and Columns: (30, 8)\n",
      "\n",
      "Columns Name: Index(['Book_id', 'Title', 'Author', 'Genre', 'Issued_to', 'Issued_date',\n",
      "       'Return_date', 'created_at'],\n",
      "      dtype='object')\n",
      "<class 'pandas.core.frame.DataFrame'>\n",
      "RangeIndex: 30 entries, 0 to 29\n",
      "Data columns (total 8 columns):\n",
      " #   Column       Non-Null Count  Dtype         \n",
      "---  ------       --------------  -----         \n",
      " 0   Book_id      30 non-null     int64         \n",
      " 1   Title        30 non-null     object        \n",
      " 2   Author       30 non-null     object        \n",
      " 3   Genre        30 non-null     object        \n",
      " 4   Issued_to    30 non-null     object        \n",
      " 5   Issued_date  30 non-null     object        \n",
      " 6   Return_date  30 non-null     object        \n",
      " 7   created_at   30 non-null     datetime64[ns]\n",
      "dtypes: datetime64[ns](1), int64(1), object(6)\n",
      "memory usage: 2.0+ KB\n",
      "Datatype and Memory: None\n"
     ]
    }
   ],
   "source": [
    "print(\"Total Row and Columns:\",df.shape)\n",
    "print(\"\\nColumns Name:\",df.columns)\n",
    "#print(\"\\n Missing Values:\",df.isnull)\n",
    "print(\"Datatype and Memory:\",df.info())"
   ]
  },
  {
   "cell_type": "markdown",
   "id": "2cd12191",
   "metadata": {},
   "source": [
    "# Simple Exploration\n",
    "\n",
    "## 📌 Goals:\n",
    "\n",
    "- First few records dekhna\n",
    "\n",
    "- Last few records dekhna\n",
    "\n",
    "- Random rows check karna\n",
    "\n",
    "## 👉 Functions/Methods:\n",
    "\n",
    "- .head() → pehle 5 rows\n",
    "\n",
    "- .tail() → last 5 rows\n",
    "\n",
    "- .sample() → random row\n",
    "\n"
   ]
  },
  {
   "cell_type": "markdown",
   "id": "58062ad3",
   "metadata": {},
   "source": [
    "# 🔹 Day 3 – Genre & Author Popularity\n",
    "\n",
    "## 📌 Goals:\n",
    "\n",
    "- Har genre ki count nikalo (kitni books issue hui)\n",
    "\n",
    "- Top authors find karo\n",
    "\n",
    "## 👉 Functions/Methods:\n",
    "\n",
    "- .value_counts() → genre/author frequency\n",
    "\n",
    "- .groupby() + .count() → genre-wise count\n",
    "\n"
   ]
  },
  {
   "cell_type": "markdown",
   "id": "602f0522",
   "metadata": {},
   "source": [
    "# 🔹 Day 4 – Borrower Analysis\n",
    "\n",
    "## 📌 Goals:\n",
    "\n",
    "- Har user ne kitni books li\n",
    "\n",
    "- Top 3 borrowers find karo\n",
    "\n",
    "## 👉 Functions/Methods:\n",
    "\n",
    "- .groupby(\"issued_to\") + .count()\n",
    "\n",
    "- .sort_values() → sabse zyada lene wale top borrowers"
   ]
  },
  {
   "cell_type": "markdown",
   "id": "2aef4dd6",
   "metadata": {},
   "source": [
    "# 🔹 Day 5 – Duration Analysis\n",
    "\n",
    "## 📌 Goals:\n",
    "\n",
    "- Har book ke liye return_date – issue_date nikalna\n",
    "\n",
    "- Average duration dekhna\n",
    "\n",
    "- Longest duration wali books identify karna\n",
    "\n",
    "## 👉 Functions/Methods:\n",
    "\n",
    "- pd.to_datetime() → dates ko datetime me convert karna\n",
    "\n",
    "- Subtraction → return_date - issue_date se duration\n",
    "\n",
    "- .mean() → average duration\n",
    "\n",
    "- .max() / .min() → longest/shortest duration"
   ]
  },
  {
   "cell_type": "markdown",
   "id": "9c24cdfa",
   "metadata": {},
   "source": [
    "# 🔹 Day 6 – Time Trend Analysis\n",
    "\n",
    "## 📌 Goals:\n",
    "\n",
    "- Month-wise books issue count\n",
    "\n",
    "- Sabse zyada kis month me books issue hoti hain\n",
    "\n",
    "## 👉 Functions/Methods:\n",
    "\n",
    "- .dt.month / .dt.year → date se month/year extract karna\n",
    "\n",
    "- .groupby(\"month\") + .count()\n",
    "\n",
    "- .idxmax() → sabse zyada count wali month"
   ]
  },
  {
   "cell_type": "markdown",
   "id": "251a2d54",
   "metadata": {},
   "source": [
    "# 🔹 Day 7 – Top N Insights\n",
    "\n",
    "## 📌 Goals:\n",
    "\n",
    "- Top 5 most issued books\n",
    "\n",
    "- Top 5 authors\n",
    "\n",
    "- Top 5 borrowers\n",
    "\n",
    "## 👉 Functions/Methods:\n",
    "\n",
    "- .value_counts().head(5) → top 5 items\n",
    "\n",
    "- .nlargest(5, \"column\") → top 5 values\n",
    "\n",
    "- ✅ Recap – Pandas ke Must-Know Functions\n",
    "\n",
    "- shape, head(), tail(), sample() → data overview\n",
    "\n",
    "- info(), describe() → structure + summary\n",
    "\n",
    "- isnull(), value_counts() → data quality + frequency\n",
    "\n",
    "- groupby(), sort_values() → aggregation & sorting\n",
    "\n",
    "- mean(), max(), min() → statistics\n",
    "\n",
    "- to_datetime(), dt.month, dt.year → date handling"
   ]
  },
  {
   "cell_type": "markdown",
   "id": "ca57811a",
   "metadata": {},
   "source": []
  }
 ],
 "metadata": {
  "kernelspec": {
   "display_name": ".venv (3.13.6)",
   "language": "python",
   "name": "python3"
  },
  "language_info": {
   "codemirror_mode": {
    "name": "ipython",
    "version": 3
   },
   "file_extension": ".py",
   "mimetype": "text/x-python",
   "name": "python",
   "nbconvert_exporter": "python",
   "pygments_lexer": "ipython3",
   "version": "3.13.6"
  }
 },
 "nbformat": 4,
 "nbformat_minor": 5
}
